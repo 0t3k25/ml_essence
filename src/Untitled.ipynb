{
 "cells": [
  {
   "cell_type": "code",
   "execution_count": 6,
   "id": "7d18ad5b-03a6-4249-9496-7c0d0e0084e4",
   "metadata": {},
   "outputs": [
    {
     "data": {
      "text/plain": [
       "20"
      ]
     },
     "execution_count": 6,
     "metadata": {},
     "output_type": "execute_result"
    }
   ],
   "source": [
    "a= 4\n",
    "b= 5\n",
    "a*b"
   ]
  },
  {
   "cell_type": "code",
   "execution_count": 16,
   "id": "7d7c0226-90b3-4ee6-a63b-d3363ff97dbc",
   "metadata": {},
   "outputs": [
    {
     "name": "stdout",
     "output_type": "stream",
     "text": [
      "15\n"
     ]
    }
   ],
   "source": [
    "%run -i ./src/test.py"
   ]
  },
  {
   "cell_type": "code",
   "execution_count": 23,
   "id": "21f47b18-d1f1-48f6-92e2-7ccece7b03c8",
   "metadata": {},
   "outputs": [
    {
     "name": "stdout",
     "output_type": "stream",
     "text": [
      "[2.50000000e+01 2.30008330e+01 2.10849646e+01 1.92523948e+01\n",
      " 1.75031237e+01 1.58371512e+01 1.42544773e+01 1.27551020e+01\n",
      " 1.13390254e+01 1.00062474e+01 8.75676801e+00 7.59058726e+00\n",
      " 6.50770512e+00 5.50812162e+00 4.59183673e+00 3.75885048e+00\n",
      " 3.00916285e+00 2.34277384e+00 1.75968347e+00 1.25989171e+00\n",
      " 8.43398584e-01 5.10204082e-01 2.60308205e-01 9.37109538e-02\n",
      " 1.04123282e-02 1.04123282e-02 9.37109538e-02 2.60308205e-01\n",
      " 5.10204082e-01 8.43398584e-01 1.25989171e+00 1.75968347e+00\n",
      " 2.34277384e+00 3.00916285e+00 3.75885048e+00 4.59183673e+00\n",
      " 5.50812162e+00 6.50770512e+00 7.59058726e+00 8.75676801e+00\n",
      " 1.00062474e+01 1.13390254e+01 1.27551020e+01 1.42544773e+01\n",
      " 1.58371512e+01 1.75031237e+01 1.92523948e+01 2.10849646e+01\n",
      " 2.30008330e+01 2.50000000e+01]\n"
     ]
    },
    {
     "data": {
      "image/png": "[encoded data removed]",
      "text/plain": [
       "<Figure size 640x480 with 1 Axes>"
      ]
     },
     "metadata": {},
     "output_type": "display_data"
    }
   ],
   "source": [
    "%matplotlib inline\n",
    "import matplotlib.pyplot as plt\n",
    "import numpy as np\n",
    "x = np.linspace(-5,5)\n",
    "\n",
    "y = x**2\n",
    "print(y)\n",
    "plt.plot(x,y)\n",
    "plt.show()"
   ]
  },
  {
   "cell_type": "code",
   "execution_count": 24,
   "id": "d535f458-f6fb-48b5-b13f-b0fb269d8a9b",
   "metadata": {},
   "outputs": [
    {
     "data": {
      "text/plain": [
       "1.4142135623730951"
      ]
     },
     "execution_count": 24,
     "metadata": {},
     "output_type": "execute_result"
    }
   ],
   "source": [
    "import math\n",
    "math.sqrt(2)"
   ]
  },
  {
   "cell_type": "code",
   "execution_count": 26,
   "id": "b2d5599c-e8cf-4c3a-8a03-24e7b4eeb123",
   "metadata": {},
   "outputs": [
    {
     "data": {
      "text/plain": [
       "20.085536923187668"
      ]
     },
     "execution_count": 26,
     "metadata": {},
     "output_type": "execute_result"
    }
   ],
   "source": [
    "math.exp(3) "
   ]
  },
  {
   "cell_type": "code",
   "execution_count": 28,
   "id": "72e32e96-b8c5-419f-8d61-4191131a39aa",
   "metadata": {},
   "outputs": [
    {
     "data": {
      "text/plain": [
       "-1.0"
      ]
     },
     "execution_count": 28,
     "metadata": {},
     "output_type": "execute_result"
    }
   ],
   "source": [
    "math.cos(math.pi)"
   ]
  },
  {
   "cell_type": "markdown",
   "id": "8dda42b1-2859-45f6-b395-d19b0c3400c5",
   "metadata": {},
   "source": [
    "math.log(5)"
   ]
  },
  {
   "cell_type": "code",
   "execution_count": 29,
   "id": "4f29e6f7-8126-426a-a16e-38a82ea3bd8a",
   "metadata": {},
   "outputs": [
    {
     "data": {
      "text/plain": [
       "3.141592653589793"
      ]
     },
     "execution_count": 29,
     "metadata": {},
     "output_type": "execute_result"
    }
   ],
   "source": [
    "# 円周率\n",
    "math.pi"
   ]
  },
  {
   "cell_type": "code",
   "execution_count": 32,
   "id": "a9d0a27e-5487-4873-81ec-beb9def0493c",
   "metadata": {},
   "outputs": [
    {
     "data": {
      "text/plain": [
       "[1, 2, 3, 4]"
      ]
     },
     "execution_count": 32,
     "metadata": {},
     "output_type": "execute_result"
    }
   ],
   "source": [
    "# リストの追加・結合\n",
    "l = [1, 2, 3]\n",
    "l.append(4)\n",
    "l"
   ]
  },
  {
   "cell_type": "code",
   "execution_count": 34,
   "id": "5e4f952d-eac9-4125-83fb-c953f1b870ef",
   "metadata": {},
   "outputs": [
    {
     "data": {
      "text/plain": [
       "[1, 100, 100, 2, 3, 4]"
      ]
     },
     "execution_count": 34,
     "metadata": {},
     "output_type": "execute_result"
    }
   ],
   "source": [
    "l.insert(1,100)\n",
    "l"
   ]
  },
  {
   "cell_type": "code",
   "execution_count": 37,
   "id": "53c475bb-5724-4961-9d1c-a40125ce5790",
   "metadata": {},
   "outputs": [
    {
     "data": {
      "text/plain": [
       "[1, 2, 3, 4, 5]"
      ]
     },
     "execution_count": 37,
     "metadata": {},
     "output_type": "execute_result"
    }
   ],
   "source": [
    "a =[1,2,3]\n",
    "b= [4,5]\n",
    "a.extend(b)\n",
    "a"
   ]
  },
  {
   "cell_type": "code",
   "execution_count": 4,
   "id": "3ce6a3b6-1faa-4a81-bed1-50ab66036594",
   "metadata": {},
   "outputs": [
    {
     "data": {
      "text/plain": [
       "[0, 1, 4, 9, 16]"
      ]
     },
     "execution_count": 4,
     "metadata": {},
     "output_type": "execute_result"
    }
   ],
   "source": [
    "# リスト内包括表記\n",
    "l = [i**2 for i in range(5)]\n",
    "l"
   ]
  },
  {
   "cell_type": "code",
   "execution_count": 5,
   "id": "fb5368ce-17fb-4cb5-866d-354b76851397",
   "metadata": {},
   "outputs": [
    {
     "data": {
      "text/plain": [
       "[[0, 1, 2, 3, 4],\n",
       " [10, 11, 12, 13, 14],\n",
       " [20, 21, 22, 23, 24],\n",
       " [30, 31, 32, 33, 34],\n",
       " [40, 41, 42, 43, 44]]"
      ]
     },
     "execution_count": 5,
     "metadata": {},
     "output_type": "execute_result"
    }
   ],
   "source": [
    "m = [[i * 10 + j for j in range(5)] for i in range(5)]\n",
    "m"
   ]
  },
  {
   "cell_type": "code",
   "execution_count": 6,
   "id": "6ced7a02-a175-4929-b7e3-08888ffdc96f",
   "metadata": {},
   "outputs": [
    {
     "data": {
      "text/plain": [
       "1"
      ]
     },
     "execution_count": 6,
     "metadata": {},
     "output_type": "execute_result"
    }
   ],
   "source": [
    "d ={\"a\":1,\"b\":2,\"c\":3}\n",
    "d[\"a\"]"
   ]
  },
  {
   "cell_type": "code",
   "execution_count": 7,
   "id": "3ec1db58-daed-4924-aaf5-4ec9df787a29",
   "metadata": {},
   "outputs": [
    {
     "data": {
      "text/plain": [
       "{'x': 1, 'y': 2, 'z': 3}"
      ]
     },
     "execution_count": 7,
     "metadata": {},
     "output_type": "execute_result"
    }
   ],
   "source": [
    "d = {}\n",
    "d[\"x\"] = 1\n",
    "d[\"y\"] = 2\n",
    "d[\"z\"] = 3\n",
    "d"
   ]
  },
  {
   "cell_type": "code",
   "execution_count": 8,
   "id": "ceb6615f-2d0b-4f62-99cb-da85676f5847",
   "metadata": {},
   "outputs": [
    {
     "name": "stdout",
     "output_type": "stream",
     "text": [
      "x\n",
      "y\n",
      "z\n"
     ]
    }
   ],
   "source": [
    "for k in d:\n",
    "    print(k)"
   ]
  },
  {
   "cell_type": "code",
   "execution_count": 10,
   "id": "03122ab9-3557-4862-8a1b-002d49bc8811",
   "metadata": {},
   "outputs": [
    {
     "name": "stdout",
     "output_type": "stream",
     "text": [
      "('x', 1)\n",
      "('y', 2)\n",
      "('z', 3)\n"
     ]
    }
   ],
   "source": [
    "for x in d.items():\n",
    "    print(x)"
   ]
  },
  {
   "cell_type": "code",
   "execution_count": 1,
   "id": "93636e17-9211-41c5-92b9-e6dddb35f810",
   "metadata": {},
   "outputs": [
    {
     "data": {
      "text/plain": [
       "{1, 2, 3}"
      ]
     },
     "execution_count": 1,
     "metadata": {},
     "output_type": "execute_result"
    }
   ],
   "source": [
    "a = set()\n",
    "a.add(1)\n",
    "a.add(2)\n",
    "a.add(3)\n",
    "a.add(3)\n",
    "a"
   ]
  },
  {
   "cell_type": "code",
   "execution_count": 2,
   "id": "01c6e7ce-0c05-41df-a6b3-d52755b8823c",
   "metadata": {},
   "outputs": [
    {
     "data": {
      "text/plain": [
       "True"
      ]
     },
     "execution_count": 2,
     "metadata": {},
     "output_type": "execute_result"
    }
   ],
   "source": [
    "2 in a"
   ]
  },
  {
   "cell_type": "code",
   "execution_count": 3,
   "id": "d4ca1b0c-4231-46f6-b694-525652e57f1f",
   "metadata": {},
   "outputs": [
    {
     "data": {
      "text/plain": [
       "{2, 3}"
      ]
     },
     "execution_count": 3,
     "metadata": {},
     "output_type": "execute_result"
    }
   ],
   "source": [
    "b ={2,3,4}\n",
    "a&b"
   ]
  },
  {
   "cell_type": "code",
   "execution_count": 4,
   "id": "4fb41fa2-3697-407d-804f-e13c01d83b5c",
   "metadata": {},
   "outputs": [
    {
     "data": {
      "text/plain": [
       "{1, 2, 3, 4}"
      ]
     },
     "execution_count": 4,
     "metadata": {},
     "output_type": "execute_result"
    }
   ],
   "source": [
    "a|b"
   ]
  },
  {
   "cell_type": "code",
   "execution_count": 5,
   "id": "aa69878d-1308-40ed-adb2-157cdfe5917d",
   "metadata": {},
   "outputs": [
    {
     "name": "stdout",
     "output_type": "stream",
     "text": [
      "8\n"
     ]
    }
   ],
   "source": [
    "def f(a,b):\n",
    "    return a+b\n",
    "print(f(5,3))"
   ]
  },
  {
   "cell_type": "code",
   "execution_count": 6,
   "id": "76fa35de-f073-4a5c-a25f-feac75f1bb33",
   "metadata": {},
   "outputs": [
    {
     "name": "stdout",
     "output_type": "stream",
     "text": [
      "2017\n"
     ]
    }
   ],
   "source": [
    "import datetime\n",
    "d = datetime.date(2017,1,1)\n",
    "print(d.year)\n"
   ]
  },
  {
   "cell_type": "code",
   "execution_count": 7,
   "id": "59e8a8e9",
   "metadata": {},
   "outputs": [
    {
     "data": {
      "text/plain": [
       "6"
      ]
     },
     "execution_count": 7,
     "metadata": {},
     "output_type": "execute_result"
    }
   ],
   "source": [
    "d.weekday()"
   ]
  },
  {
   "cell_type": "code",
   "execution_count": 11,
   "id": "b5ef9524-21fd-461e-8813-870a89b1e3e6",
   "metadata": {},
   "outputs": [],
   "source": [
    "class Person:\n",
    "    def __init__(self,first_name='',last_name='') -> None:\n",
    "        self.first_name =first_name\n",
    "        self.last_name = last_name\\\n",
    "\n",
    "    def get_name(self):\n",
    "        return self.first_name + \",\" + self.last_name\n",
    "\n",
    "    def __str__(self):\n",
    "        return self.last_name + \",\" + self.first_name"
   ]
  },
  {
   "cell_type": "code",
   "execution_count": null,
   "id": "f4811d73-4bf9-4a91-bee1-b7bbc6abe30d",
   "metadata": {},
   "outputs": [],
   "source": []
  },
  {
   "cell_type": "code",
   "execution_count": null,
   "id": "8456b2ca-e5cd-4b9a-a81b-8144914c6f60",
   "metadata": {},
   "outputs": [],
   "source": []
  },
  {
   "cell_type": "code",
   "execution_count": 10,
   "id": "9b926188",
   "metadata": {},
   "outputs": [
    {
     "name": "stdout",
     "output_type": "stream",
     "text": [
      "John Smith\n"
     ]
    }
   ],
   "source": [
    "person1 = Person('John', 'Smith')\n",
    "print(person1.first_name, person1.last_name)\n"
   ]
  },
  {
   "cell_type": "code",
   "execution_count": 11,
   "id": "87134d99",
   "metadata": {},
   "outputs": [
    {
     "name": "stdout",
     "output_type": "stream",
     "text": [
      "Robert Johnson\n"
     ]
    }
   ],
   "source": [
    "person2 = Person()\n",
    "person2.first_name = 'Robert'\n",
    "person2.last_name = 'Johnson'\n",
    "print(person2.first_name, person2.last_name)"
   ]
  },
  {
   "cell_type": "code",
   "execution_count": 12,
   "id": "adeb7ae1-4662-423b-add9-5c2d8ab04ef8",
   "metadata": {},
   "outputs": [
    {
     "name": "stdout",
     "output_type": "stream",
     "text": [
      "John,Smith\n",
      "Smith,John\n"
     ]
    }
   ],
   "source": [
    "person1 = Person('John', 'Smith')\n",
    "print(person1.get_name())\n",
    "print(person1)"
   ]
  },
  {
   "cell_type": "code",
   "execution_count": 15,
   "id": "81040db8-3302-4555-815a-25a8d726b967",
   "metadata": {},
   "outputs": [
    {
     "name": "stdout",
     "output_type": "stream",
     "text": [
      "I am Imported\n",
      "Bow!\n",
      "meow\n"
     ]
    }
   ],
   "source": [
    "import mod2\n",
    "print('Bow!')\n",
    "\n",
    "mod2.meow()"
   ]
  },
  {
   "cell_type": "code",
   "execution_count": 17,
   "id": "78f0b0d4",
   "metadata": {},
   "outputs": [
    {
     "name": "stdout",
     "output_type": "stream",
     "text": [
      "meow\n"
     ]
    }
   ],
   "source": [
    "import mod3\n",
    "mod3.meow()"
   ]
  },
  {
   "cell_type": "code",
   "execution_count": 18,
   "id": "776c0780-7b9d-4168-9bbd-573d5b7e232e",
   "metadata": {},
   "outputs": [
    {
     "data": {
      "text/plain": [
       "datetime.date(2018, 1, 1)"
      ]
     },
     "execution_count": 18,
     "metadata": {},
     "output_type": "execute_result"
    }
   ],
   "source": [
    "# serialize using pickle\n",
    "from datetime import date\n",
    "import pickle\n",
    "x = date(2018,1,1)\n",
    "x"
   ]
  },
  {
   "cell_type": "code",
   "execution_count": 19,
   "id": "01aac488-c86f-4546-9db4-457b7dfb4610",
   "metadata": {},
   "outputs": [],
   "source": [
    "with open('today.pkl', 'wb') as f:\n",
    "    pickle.dump(x,f,-1)"
   ]
  },
  {
   "cell_type": "code",
   "execution_count": 20,
   "id": "b5a805a1-2b1c-4f59-ac4a-4877cf309839",
   "metadata": {},
   "outputs": [
    {
     "data": {
      "text/plain": [
       "datetime.date(2018, 1, 1)"
      ]
     },
     "execution_count": 20,
     "metadata": {},
     "output_type": "execute_result"
    }
   ],
   "source": [
    "with open('today.pkl','rb') as f:\n",
    "    y = pickle.load(f)\n",
    "y"
   ]
  },
  {
   "cell_type": "code",
   "execution_count": 28,
   "id": "26d24aa8-62e0-4fe5-a9c9-9f7320e067cf",
   "metadata": {},
   "outputs": [
    {
     "name": "stdout",
     "output_type": "stream",
     "text": [
      "18\n"
     ]
    }
   ],
   "source": [
    "import csv\n",
    "\n",
    "s = 0\n",
    "with open('sample.csv') as f:\n",
    "    reader =csv.reader(f)\n",
    "    next(reader)\n",
    "    for row in reader:\n",
    "        s += int(row[1])\n",
    "print(s)"
   ]
  },
  {
   "cell_type": "code",
   "execution_count": 29,
   "id": "551180c7-fa22-446f-b196-6746d4fce17c",
   "metadata": {},
   "outputs": [],
   "source": [
    "import csv\n",
    "data = [[1,'a',1.1],\n",
    "        [2,'b',1.2],\n",
    "        [3,'c',1.3]\n",
    "       ]\n",
    "with open('output.csv', 'w') as f:\n",
    "    wr = csv.writer(f)\n",
    "    for row in data:\n",
    "        wr.writerow(row)"
   ]
  },
  {
   "cell_type": "code",
   "execution_count": 31,
   "id": "af88ae73-6a2f-4930-b04f-8b2648fae720",
   "metadata": {},
   "outputs": [
    {
     "data": {
      "text/plain": [
       "'{\"a\": 1, \"b\": \"x\", \"c\": [1, 2, 3], \"d\": {\"a\": 1, \"b\": 2}}'"
      ]
     },
     "execution_count": 31,
     "metadata": {},
     "output_type": "execute_result"
    }
   ],
   "source": [
    "import json\n",
    "data = {'a':1,'b':'x','c':[1,2,3],'d':{'a':1,'b':2}}\n",
    "s = json.dumps(data)\n",
    "s"
   ]
  },
  {
   "cell_type": "code",
   "execution_count": 33,
   "id": "dafb18f2-94dd-4682-b30f-fc66c3815d41",
   "metadata": {},
   "outputs": [
    {
     "data": {
      "text/plain": [
       "{'a': 1, 'b': 'x', 'c': [1, 2, 3], 'd': {'a': 1, 'b': 2}}"
      ]
     },
     "execution_count": 33,
     "metadata": {},
     "output_type": "execute_result"
    }
   ],
   "source": [
    "data2 = json.loads(s)\n",
    "data2"
   ]
  },
  {
   "cell_type": "code",
   "execution_count": 34,
   "id": "d5053d05-6dda-495b-9177-bebfc8551bec",
   "metadata": {},
   "outputs": [
    {
     "ename": "KeyError",
     "evalue": "'d'",
     "output_type": "error",
     "traceback": [
      "\u001b[0;31m---------------------------------------------------------------------------\u001b[0m",
      "\u001b[0;31mKeyError\u001b[0m                                  Traceback (most recent call last)",
      "Cell \u001b[0;32mIn[34], line 2\u001b[0m\n\u001b[1;32m      1\u001b[0m d\u001b[38;5;241m=\u001b[39m {\u001b[38;5;124m'\u001b[39m\u001b[38;5;124ma\u001b[39m\u001b[38;5;124m'\u001b[39m:\u001b[38;5;241m1\u001b[39m,\u001b[38;5;124m'\u001b[39m\u001b[38;5;124mb\u001b[39m\u001b[38;5;124m'\u001b[39m:\u001b[38;5;241m2\u001b[39m,\u001b[38;5;124m'\u001b[39m\u001b[38;5;124mc\u001b[39m\u001b[38;5;124m'\u001b[39m:\u001b[38;5;241m3\u001b[39m}\n\u001b[0;32m----> 2\u001b[0m \u001b[43md\u001b[49m\u001b[43m[\u001b[49m\u001b[38;5;124;43m\"\u001b[39;49m\u001b[38;5;124;43md\u001b[39;49m\u001b[38;5;124;43m\"\u001b[39;49m\u001b[43m]\u001b[49m\n",
      "\u001b[0;31mKeyError\u001b[0m: 'd'"
     ]
    }
   ],
   "source": [
    "d= {'a':1,'b':2,'c':3}\n",
    "d[\"d\"]"
   ]
  },
  {
   "cell_type": "code",
   "execution_count": 35,
   "id": "aec38ccf-1aac-429c-bf48-bda2f980255a",
   "metadata": {},
   "outputs": [
    {
     "name": "stdout",
     "output_type": "stream",
     "text": [
      "KeyError!\n"
     ]
    }
   ],
   "source": [
    "try:\n",
    "    print(d['d'])\n",
    "except KeyError:\n",
    "    print('KeyError!')"
   ]
  },
  {
   "cell_type": "code",
   "execution_count": 39,
   "id": "73f26d0e-f6bc-4d23-a7ce-01885415de0e",
   "metadata": {},
   "outputs": [
    {
     "name": "stdout",
     "output_type": "stream",
     "text": [
      "'d'\n",
      "KeyError:'d'\n"
     ]
    }
   ],
   "source": [
    "d = {'a':1,'b':2,'c':3}\n",
    "\n",
    "try:\n",
    "    print(d['d'])\n",
    "except KeyError as err:\n",
    "    \n",
    "    print('KeyError:{}'.format(err))"
   ]
  },
  {
   "cell_type": "code",
   "execution_count": null,
   "id": "b1103300-a7a6-4b2c-8692-d5d58a90fb51",
   "metadata": {},
   "outputs": [],
   "source": [
    "# 十分に小さい値の対処に関して\n",
    "s = 0\n",
    "for i in range(1000):\n",
    "    s+= 0.001\n",
    "    print(s)"
   ]
  },
  {
   "cell_type": "code",
   "execution_count": 2,
   "id": "3bdd4d59-0226-4b20-bd65-fbf1b6d26388",
   "metadata": {},
   "outputs": [
    {
     "name": "stdout",
     "output_type": "stream",
     "text": [
      "0.1\n",
      "0.2\n",
      "0.30000000000000004\n",
      "0.4\n",
      "0.5\n",
      "0.6\n",
      "0.7\n",
      "0.7999999999999999\n",
      "0.8999999999999999\n",
      "0.9999999999999999\n"
     ]
    }
   ],
   "source": [
    "# 十分に小さい値の対処に関して\n",
    "s = 0\n",
    "for i in range(10):\n",
    "    s+= 0.1\n",
    "    print(s)"
   ]
  },
  {
   "cell_type": "code",
   "execution_count": 1,
   "id": "b2f56aa3-2ed6-4e27-8be0-729da9b063e9",
   "metadata": {},
   "outputs": [],
   "source": [
    "import numpy as np\n",
    "\n",
    "def qeq(a,b,c):\n",
    "    d =np.sqrt(b**2 -4 *a *c)\n",
    "    return ((-b+d) / (2*a),(-b -d)/(2*a))\n",
    "    "
   ]
  },
  {
   "cell_type": "code",
   "execution_count": 2,
   "id": "5c4ea526-aadd-4a20-b0c1-36a7d8a7f02f",
   "metadata": {},
   "outputs": [
    {
     "data": {
      "text/plain": [
       "(-2.0, -3.0)"
      ]
     },
     "execution_count": 2,
     "metadata": {},
     "output_type": "execute_result"
    }
   ],
   "source": [
    "qeq(1,5,6)"
   ]
  },
  {
   "cell_type": "code",
   "execution_count": 3,
   "id": "4fc600e2-b525-462f-a3a6-cc1cf65aa508",
   "metadata": {},
   "outputs": [
    {
     "data": {
      "text/plain": [
       "(-1.000000082740371e-10, -0.99999999991)"
      ]
     },
     "execution_count": 3,
     "metadata": {},
     "output_type": "execute_result"
    }
   ],
   "source": [
    "qeq(1,1.00000000001,0.0000000001)"
   ]
  },
  {
   "cell_type": "code",
   "execution_count": 4,
   "id": "cedb2c0d-ec3f-47b2-86a2-768e60fb22af",
   "metadata": {},
   "outputs": [],
   "source": [
    "import numpy as np\n",
    "\n",
    "def qeq(a,b,c):\n",
    "    alpha = (-b-np.sign(b)*np.sqrt(b**2 -4*a*c))/(2*a)\n",
    "    beta = c / (a*alpha)\n",
    "    return (alpha, beta)"
   ]
  },
  {
   "cell_type": "code",
   "execution_count": 5,
   "id": "af602d2e-bf34-4ebe-a832-c04fa562d46a",
   "metadata": {},
   "outputs": [
    {
     "data": {
      "text/plain": [
       "(-3.0, -2.0)"
      ]
     },
     "execution_count": 5,
     "metadata": {},
     "output_type": "execute_result"
    }
   ],
   "source": [
    "qeq(1,5,6)"
   ]
  },
  {
   "cell_type": "code",
   "execution_count": 6,
   "id": "36f1502f-8fcc-4aac-b08a-60659e39a242",
   "metadata": {},
   "outputs": [
    {
     "data": {
      "text/plain": [
       "(-1.0, -1e-09)"
      ]
     },
     "execution_count": 6,
     "metadata": {},
     "output_type": "execute_result"
    }
   ],
   "source": [
    "qeq(1,1.000000001,0.000000001)"
   ]
  },
  {
   "cell_type": "code",
   "execution_count": 1,
   "id": "d4ae3495-07f2-4e1d-85fb-8c517b151175",
   "metadata": {},
   "outputs": [],
   "source": [
    "import numpy as np\n",
    "\n",
    "def softplus(x):\n",
    "    return np.log(1+np.exp(x))"
   ]
  },
  {
   "cell_type": "code",
   "execution_count": 2,
   "id": "bcd9a2c0-dc06-420d-872a-80fac7694a60",
   "metadata": {},
   "outputs": [
    {
     "data": {
      "text/plain": [
       "0.31326168751822286"
      ]
     },
     "execution_count": 2,
     "metadata": {},
     "output_type": "execute_result"
    }
   ],
   "source": [
    "softplus(-1)\n"
   ]
  },
  {
   "cell_type": "code",
   "execution_count": 3,
   "id": "e7323d09-0ab3-480f-8429-637d93493140",
   "metadata": {},
   "outputs": [
    {
     "data": {
      "text/plain": [
       "0.6931471805599453"
      ]
     },
     "execution_count": 3,
     "metadata": {},
     "output_type": "execute_result"
    }
   ],
   "source": [
    "softplus(0)"
   ]
  },
  {
   "cell_type": "code",
   "execution_count": 4,
   "id": "fd525d11-70b6-4543-9655-0a4fb55b15b3",
   "metadata": {},
   "outputs": [
    {
     "name": "stderr",
     "output_type": "stream",
     "text": [
      "/var/folders/c1/887py4fd6618zrgtpbrgm4gr0000gn/T/ipykernel_2337/1046423217.py:4: RuntimeWarning: overflow encountered in exp\n",
      "  return np.log(1+np.exp(x))\n"
     ]
    },
    {
     "data": {
      "text/plain": [
       "inf"
      ]
     },
     "execution_count": 4,
     "metadata": {},
     "output_type": "execute_result"
    }
   ],
   "source": [
    "softplus(1000)"
   ]
  },
  {
   "cell_type": "code",
   "execution_count": 7,
   "id": "a744cfc7-6564-4f04-82a1-1f7cfd5c0b6c",
   "metadata": {},
   "outputs": [],
   "source": [
    "import numpy as np\n",
    "\n",
    "def softplus(x):\n",
    "    return max(0,x) + np.log(1-np.exp(-abs(x)))"
   ]
  },
  {
   "cell_type": "code",
   "execution_count": 9,
   "id": "487b8973-8b89-47d9-9913-cf202f3467a5",
   "metadata": {},
   "outputs": [
    {
     "data": {
      "text/plain": [
       "0.0"
      ]
     },
     "execution_count": 9,
     "metadata": {},
     "output_type": "execute_result"
    }
   ],
   "source": [
    "softplus(1000)\n",
    "softplus(-1000)"
   ]
  },
  {
   "cell_type": "code",
   "execution_count": 10,
   "id": "8ba85f1c-2a42-4f97-8272-03adeae08d08",
   "metadata": {},
   "outputs": [
    {
     "data": {
      "text/plain": [
       "7.38905609893065"
      ]
     },
     "execution_count": 10,
     "metadata": {},
     "output_type": "execute_result"
    }
   ],
   "source": [
    "import numpy as np\n",
    "np.exp(2)"
   ]
  },
  {
   "cell_type": "code",
   "execution_count": 11,
   "id": "464c8b17-15a5-45cd-a48a-da6e9fa332be",
   "metadata": {},
   "outputs": [
    {
     "data": {
      "text/plain": [
       "1.0"
      ]
     },
     "execution_count": 11,
     "metadata": {},
     "output_type": "execute_result"
    }
   ],
   "source": [
    "np.log(np.e)"
   ]
  },
  {
   "cell_type": "code",
   "execution_count": 12,
   "id": "785117ad-2f0c-4a2f-8be8-5a82a81c346a",
   "metadata": {},
   "outputs": [
    {
     "data": {
      "text/plain": [
       "1.2246467991473532e-16"
      ]
     },
     "execution_count": 12,
     "metadata": {},
     "output_type": "execute_result"
    }
   ],
   "source": [
    "np.sin(np.pi)"
   ]
  },
  {
   "cell_type": "code",
   "execution_count": 13,
   "id": "be730f03-03e0-4a28-a703-81de9be61e5e",
   "metadata": {},
   "outputs": [
    {
     "data": {
      "text/plain": [
       "1.7320508075688772"
      ]
     },
     "execution_count": 13,
     "metadata": {},
     "output_type": "execute_result"
    }
   ],
   "source": [
    "np.sqrt(3)"
   ]
  },
  {
   "cell_type": "code",
   "execution_count": 14,
   "id": "98c3ee66-852a-4069-93b1-9d7fd05a2582",
   "metadata": {},
   "outputs": [
    {
     "data": {
      "text/plain": [
       "2"
      ]
     },
     "execution_count": 14,
     "metadata": {},
     "output_type": "execute_result"
    }
   ],
   "source": [
    "a = np.array([2,3,5,7,8])\n",
    "a[0]"
   ]
  },
  {
   "cell_type": "code",
   "execution_count": 15,
   "id": "07405ec6-194c-44f6-ae69-cdc2b6e6012c",
   "metadata": {},
   "outputs": [
    {
     "data": {
      "text/plain": [
       "array([3, 5])"
      ]
     },
     "execution_count": 15,
     "metadata": {},
     "output_type": "execute_result"
    }
   ],
   "source": [
    "a[1:3]"
   ]
  },
  {
   "cell_type": "code",
   "execution_count": 17,
   "id": "aecd4235-9257-4703-8aeb-191d6b548dbe",
   "metadata": {},
   "outputs": [
    {
     "data": {
      "text/plain": [
       "array([5, 7])"
      ]
     },
     "execution_count": 17,
     "metadata": {},
     "output_type": "execute_result"
    }
   ],
   "source": [
    "a[2:-1]"
   ]
  },
  {
   "cell_type": "code",
   "execution_count": 19,
   "id": "df87358d-e7f0-437d-828d-ca25dbecd93a",
   "metadata": {},
   "outputs": [
    {
     "data": {
      "text/plain": [
       "array([0, 1, 2, 3, 4])"
      ]
     },
     "execution_count": 19,
     "metadata": {},
     "output_type": "execute_result"
    }
   ],
   "source": [
    "b = np.arange(5)\n",
    "b"
   ]
  },
  {
   "cell_type": "code",
   "execution_count": 21,
   "id": "e59298c7-5001-495c-b4db-3d6345488959",
   "metadata": {},
   "outputs": [
    {
     "data": {
      "text/plain": [
       "array([1. , 1.2, 1.4, 1.6, 1.8, 2. , 2.2, 2.4, 2.6, 2.8])"
      ]
     },
     "execution_count": 21,
     "metadata": {},
     "output_type": "execute_result"
    }
   ],
   "source": [
    "c = np.arange(1,3,0.2)\n",
    "c\n"
   ]
  },
  {
   "cell_type": "code",
   "execution_count": 22,
   "id": "1e38bbe8-1df5-404c-a939-7cc9eba08cbc",
   "metadata": {},
   "outputs": [
    {
     "data": {
      "text/plain": [
       "dtype('int64')"
      ]
     },
     "execution_count": 22,
     "metadata": {},
     "output_type": "execute_result"
    }
   ],
   "source": [
    "a.dtype"
   ]
  },
  {
   "cell_type": "code",
   "execution_count": 23,
   "id": "62fd2f71-38ee-4de0-9fb6-a982f5ef75ac",
   "metadata": {},
   "outputs": [
    {
     "data": {
      "text/plain": [
       "dtype('float64')"
      ]
     },
     "execution_count": 23,
     "metadata": {},
     "output_type": "execute_result"
    }
   ],
   "source": [
    "c.dtype"
   ]
  },
  {
   "cell_type": "code",
   "execution_count": 25,
   "id": "1f74e373-8f24-4648-bc4e-fd083c13ec62",
   "metadata": {},
   "outputs": [
    {
     "data": {
      "text/plain": [
       "dtype('float64')"
      ]
     },
     "execution_count": 25,
     "metadata": {},
     "output_type": "execute_result"
    }
   ],
   "source": [
    "d = np.array([1,2,3], dtype=np.float64)\n",
    "d.dtype"
   ]
  },
  {
   "cell_type": "code",
   "execution_count": 26,
   "id": "2b63cf51-d052-4a92-907a-56270d80ac76",
   "metadata": {},
   "outputs": [
    {
     "data": {
      "text/plain": [
       "array([1., 2., 3.])"
      ]
     },
     "execution_count": 26,
     "metadata": {},
     "output_type": "execute_result"
    }
   ],
   "source": [
    "d"
   ]
  },
  {
   "cell_type": "code",
   "execution_count": 28,
   "id": "38d983fd-db21-40a9-9083-4363b82a6fd9",
   "metadata": {},
   "outputs": [
    {
     "data": {
      "text/plain": [
       "array([0., 1., 2., 3., 4.])"
      ]
     },
     "execution_count": 28,
     "metadata": {},
     "output_type": "execute_result"
    }
   ],
   "source": [
    "e = np.arange(5.)\n",
    "e"
   ]
  },
  {
   "cell_type": "code",
   "execution_count": 29,
   "id": "89cea45f-4374-4313-8993-8941a9221c18",
   "metadata": {},
   "outputs": [
    {
     "data": {
      "text/plain": [
       "dtype('float64')"
      ]
     },
     "execution_count": 29,
     "metadata": {},
     "output_type": "execute_result"
    }
   ],
   "source": [
    "e.dtype"
   ]
  },
  {
   "cell_type": "code",
   "execution_count": 2,
   "id": "4cafb3ea-3256-45c4-8494-811d615c8fe9",
   "metadata": {},
   "outputs": [
    {
     "data": {
      "text/plain": [
       "array([[2., 3., 4.],\n",
       "       [5., 6., 7.]])"
      ]
     },
     "execution_count": 2,
     "metadata": {},
     "output_type": "execute_result"
    }
   ],
   "source": [
    "import numpy as np\n",
    "a = np.array([[2,3,4],[5,6,7]], dtype=np.float64)\n",
    "a"
   ]
  },
  {
   "cell_type": "code",
   "execution_count": 4,
   "id": "f8e3d7ac-0bb4-4f0d-bada-d531ffd53d05",
   "metadata": {},
   "outputs": [
    {
     "data": {
      "text/plain": [
       "3.0"
      ]
     },
     "execution_count": 4,
     "metadata": {},
     "output_type": "execute_result"
    }
   ],
   "source": [
    "a[0,1]"
   ]
  },
  {
   "cell_type": "code",
   "execution_count": 5,
   "id": "a94f593c-27ad-406f-b08e-22a1ff710bac",
   "metadata": {},
   "outputs": [
    {
     "data": {
      "text/plain": [
       "array([3., 6.])"
      ]
     },
     "execution_count": 5,
     "metadata": {},
     "output_type": "execute_result"
    }
   ],
   "source": [
    "a[:,1]"
   ]
  },
  {
   "cell_type": "code",
   "execution_count": 6,
   "id": "330e6444-fa0e-4c6e-beaf-4997140794d2",
   "metadata": {},
   "outputs": [
    {
     "data": {
      "text/plain": [
       "array([5., 6., 7.])"
      ]
     },
     "execution_count": 6,
     "metadata": {},
     "output_type": "execute_result"
    }
   ],
   "source": [
    "a[1,:]"
   ]
  },
  {
   "cell_type": "code",
   "execution_count": 7,
   "id": "5e53e51c-9735-4f5b-a46d-d70c3de3213e",
   "metadata": {},
   "outputs": [
    {
     "data": {
      "text/plain": [
       "array([4.])"
      ]
     },
     "execution_count": 7,
     "metadata": {},
     "output_type": "execute_result"
    }
   ],
   "source": [
    "a[0,2:]"
   ]
  },
  {
   "cell_type": "code",
   "execution_count": 8,
   "id": "34bffaba-a53a-47e8-8d7f-e53535efbefb",
   "metadata": {},
   "outputs": [
    {
     "data": {
      "text/plain": [
       "array([2., 3.])"
      ]
     },
     "execution_count": 8,
     "metadata": {},
     "output_type": "execute_result"
    }
   ],
   "source": [
    "a[0,:2]"
   ]
  },
  {
   "cell_type": "code",
   "execution_count": 9,
   "id": "387975de-6cce-4ede-b72d-3dd34b0ebe59",
   "metadata": {},
   "outputs": [
    {
     "data": {
      "text/plain": [
       "array([[ 0.,  1.,  2.,  3.,  4.],\n",
       "       [ 5.,  6.,  7.,  8.,  9.],\n",
       "       [10., 11., 12., 13., 14.]])"
      ]
     },
     "execution_count": 9,
     "metadata": {},
     "output_type": "execute_result"
    }
   ],
   "source": [
    "a = np.arange(15.).reshape(3,5)\n",
    "a"
   ]
  },
  {
   "cell_type": "code",
   "execution_count": 10,
   "id": "0d6a69fc-f8ad-4323-af29-94581a9f0cec",
   "metadata": {},
   "outputs": [
    {
     "data": {
      "text/plain": [
       "(3, 5)"
      ]
     },
     "execution_count": 10,
     "metadata": {},
     "output_type": "execute_result"
    }
   ],
   "source": [
    "a.shape"
   ]
  },
  {
   "cell_type": "code",
   "execution_count": 11,
   "id": "4cbc3267-06ec-424b-9679-ed493cb9059f",
   "metadata": {},
   "outputs": [
    {
     "data": {
      "text/plain": [
       "2"
      ]
     },
     "execution_count": 11,
     "metadata": {},
     "output_type": "execute_result"
    }
   ],
   "source": [
    "a.ndim"
   ]
  },
  {
   "cell_type": "code",
   "execution_count": 12,
   "id": "53975362-80a3-444a-96e3-444d1ad9ea30",
   "metadata": {},
   "outputs": [
    {
     "data": {
      "text/plain": [
       "15"
      ]
     },
     "execution_count": 12,
     "metadata": {},
     "output_type": "execute_result"
    }
   ],
   "source": [
    "a.size"
   ]
  },
  {
   "cell_type": "code",
   "execution_count": 13,
   "id": "e5229e12-19d5-4439-aa3e-e058f7773aeb",
   "metadata": {},
   "outputs": [
    {
     "data": {
      "text/plain": [
       "array([0., 1., 2., 3.])"
      ]
     },
     "execution_count": 13,
     "metadata": {},
     "output_type": "execute_result"
    }
   ],
   "source": [
    "b=np.arange(4.)\n",
    "b"
   ]
  },
  {
   "cell_type": "code",
   "execution_count": 14,
   "id": "47e1e02d-1702-4a52-ad82-3b428b9ecd80",
   "metadata": {},
   "outputs": [
    {
     "data": {
      "text/plain": [
       "(4,)"
      ]
     },
     "execution_count": 14,
     "metadata": {},
     "output_type": "execute_result"
    }
   ],
   "source": [
    "b.shape"
   ]
  },
  {
   "cell_type": "code",
   "execution_count": 15,
   "id": "e8362b32-1114-46a7-acc3-84856b19b15f",
   "metadata": {},
   "outputs": [
    {
     "data": {
      "text/plain": [
       "1"
      ]
     },
     "execution_count": 15,
     "metadata": {},
     "output_type": "execute_result"
    }
   ],
   "source": [
    "b.ndim"
   ]
  },
  {
   "cell_type": "code",
   "execution_count": 16,
   "id": "e7a6178a-569d-4a5a-b1fb-52cb95056596",
   "metadata": {},
   "outputs": [
    {
     "data": {
      "text/plain": [
       "4"
      ]
     },
     "execution_count": 16,
     "metadata": {},
     "output_type": "execute_result"
    }
   ],
   "source": [
    "b.size"
   ]
  },
  {
   "cell_type": "code",
   "execution_count": 2,
   "id": "d9f5ae64-8aa1-4d9a-b519-ee4ee4efd2ab",
   "metadata": {},
   "outputs": [
    {
     "data": {
      "text/plain": [
       "array([ 0.,  1.,  2.,  3.,  4.,  5.,  6.,  7.,  8.,  9., 10., 11., 12.,\n",
       "       13., 14., 15.])"
      ]
     },
     "execution_count": 2,
     "metadata": {},
     "output_type": "execute_result"
    }
   ],
   "source": [
    "import numpy as np\n",
    "a = np.arange(16.)\n",
    "a"
   ]
  },
  {
   "cell_type": "code",
   "execution_count": 9,
   "id": "f7809fe9-3e7a-4a5d-b90a-e6931681af7a",
   "metadata": {},
   "outputs": [
    {
     "data": {
      "text/plain": [
       "array([[ 0.,  1.],\n",
       "       [ 2.,  3.],\n",
       "       [ 4.,  5.],\n",
       "       [ 6.,  7.],\n",
       "       [ 8.,  9.],\n",
       "       [10., 11.],\n",
       "       [12., 13.],\n",
       "       [14., 15.]])"
      ]
     },
     "execution_count": 9,
     "metadata": {},
     "output_type": "execute_result"
    }
   ],
   "source": [
    "c = a.reshape(8,-1)\n",
    "c"
   ]
  },
  {
   "cell_type": "code",
   "execution_count": 10,
   "id": "f19339cb-6188-45c3-8a83-b3036ab93608",
   "metadata": {},
   "outputs": [
    {
     "data": {
      "text/plain": [
       "array([ 0.,  1.,  2.,  3.,  4.,  5.,  6.,  7.,  8.,  9., 10., 11., 12.,\n",
       "       13., 14., 15.])"
      ]
     },
     "execution_count": 10,
     "metadata": {},
     "output_type": "execute_result"
    }
   ],
   "source": [
    "# 1次元配列に変更\n",
    "c.ravel()"
   ]
  },
  {
   "cell_type": "code",
   "execution_count": 12,
   "id": "9dd2973c-c5eb-41b8-ba70-68899dd93d4b",
   "metadata": {},
   "outputs": [
    {
     "data": {
      "text/plain": [
       "array([ 0.,  1.,  2.,  3.,  4.,  5.,  6.,  7.,  8.,  9., 10., 11., 12.,\n",
       "       13., 14., 15.])"
      ]
     },
     "execution_count": 12,
     "metadata": {},
     "output_type": "execute_result"
    }
   ],
   "source": [
    "# 1次元配列に変更\n",
    "c.reshape(-1)"
   ]
  },
  {
   "cell_type": "code",
   "execution_count": 14,
   "id": "064c687e-ee89-455d-92df-e655758f102d",
   "metadata": {},
   "outputs": [
    {
     "data": {
      "text/plain": [
       "array([0., 1., 2., 3.])"
      ]
     },
     "execution_count": 14,
     "metadata": {},
     "output_type": "execute_result"
    }
   ],
   "source": [
    "b = np.arange(4.)\n",
    "b "
   ]
  },
  {
   "cell_type": "code",
   "execution_count": 22,
   "id": "4bd81e35-8f24-49db-91bf-d4444faf7356",
   "metadata": {},
   "outputs": [
    {
     "data": {
      "text/plain": [
       "array([[0.],\n",
       "       [1.],\n",
       "       [2.],\n",
       "       [3.]])"
      ]
     },
     "execution_count": 22,
     "metadata": {},
     "output_type": "execute_result"
    }
   ],
   "source": [
    "b.reshape(-1,1)"
   ]
  },
  {
   "cell_type": "code",
   "execution_count": 17,
   "id": "946fef0d-08e2-4fc9-a5b4-5f7c18277120",
   "metadata": {},
   "outputs": [
    {
     "data": {
      "text/plain": [
       "array([[0.],\n",
       "       [1.],\n",
       "       [2.],\n",
       "       [3.]])"
      ]
     },
     "execution_count": 17,
     "metadata": {},
     "output_type": "execute_result"
    }
   ],
   "source": [
    "b[:,np.newaxis]"
   ]
  },
  {
   "cell_type": "code",
   "execution_count": 18,
   "id": "9b7d0aa9-51c0-48a0-99f4-a64014ea18c9",
   "metadata": {},
   "outputs": [
    {
     "data": {
      "text/plain": [
       "array([[0.],\n",
       "       [1.],\n",
       "       [2.],\n",
       "       [3.]])"
      ]
     },
     "execution_count": 18,
     "metadata": {},
     "output_type": "execute_result"
    }
   ],
   "source": [
    "b[:,None]"
   ]
  },
  {
   "cell_type": "code",
   "execution_count": 19,
   "id": "2507c7a3-ae2b-4ae5-8477-2af199a65f9b",
   "metadata": {},
   "outputs": [
    {
     "data": {
      "text/plain": [
       "array([[0., 1., 2., 3.]])"
      ]
     },
     "execution_count": 19,
     "metadata": {},
     "output_type": "execute_result"
    }
   ],
   "source": [
    "b.reshape(1,-1)"
   ]
  },
  {
   "cell_type": "code",
   "execution_count": 20,
   "id": "1e13c194-da6e-45d9-88af-8398572f9272",
   "metadata": {},
   "outputs": [
    {
     "data": {
      "text/plain": [
       "array([[0., 1., 2., 3.]])"
      ]
     },
     "execution_count": 20,
     "metadata": {},
     "output_type": "execute_result"
    }
   ],
   "source": [
    "b.reshape(1,-1)"
   ]
  },
  {
   "cell_type": "code",
   "execution_count": 21,
   "id": "3775e3c0-366e-4778-a999-e931846c4cf5",
   "metadata": {},
   "outputs": [
    {
     "data": {
      "text/plain": [
       "array([[0., 1., 2., 3.]])"
      ]
     },
     "execution_count": 21,
     "metadata": {},
     "output_type": "execute_result"
    }
   ],
   "source": [
    "b[np.newaxis,:]"
   ]
  },
  {
   "cell_type": "code",
   "execution_count": 2,
   "id": "94fce3c4-71a7-4a53-ad53-41123c2309db",
   "metadata": {},
   "outputs": [
    {
     "data": {
      "text/plain": [
       "array([[0., 0., 0., 0.],\n",
       "       [0., 0., 0., 0.],\n",
       "       [0., 0., 0., 0.]])"
      ]
     },
     "execution_count": 2,
     "metadata": {},
     "output_type": "execute_result"
    }
   ],
   "source": [
    "import numpy as np\n",
    "a = np.zeros((3,4))\n",
    "a"
   ]
  },
  {
   "cell_type": "code",
   "execution_count": 4,
   "id": "d55f57ba-4ca6-4ce2-9469-1e168dc57ecf",
   "metadata": {},
   "outputs": [
    {
     "data": {
      "text/plain": [
       "array([[1., 1.],\n",
       "       [1., 1.]])"
      ]
     },
     "execution_count": 4,
     "metadata": {},
     "output_type": "execute_result"
    }
   ],
   "source": [
    "b = np.ones((2,2))\n",
    "b"
   ]
  },
  {
   "cell_type": "code",
   "execution_count": 7,
   "id": "5d99eb62-b8c0-4f56-b6ab-b99e4585cc70",
   "metadata": {},
   "outputs": [
    {
     "data": {
      "text/plain": [
       "array([[0., 0., 0., 0., 0.],\n",
       "       [0., 0., 0., 0., 0.]])"
      ]
     },
     "execution_count": 7,
     "metadata": {},
     "output_type": "execute_result"
    }
   ],
   "source": [
    "c = np.empty((2,5))\n",
    "c"
   ]
  },
  {
   "cell_type": "code",
   "execution_count": 12,
   "id": "345c5327-dfa0-401d-8150-2281b6af8f3d",
   "metadata": {},
   "outputs": [
    {
     "data": {
      "text/plain": [
       "array([1.        , 1.07692308, 1.15384615, 1.23076923, 1.30769231,\n",
       "       1.38461538, 1.46153846, 1.53846154, 1.61538462, 1.69230769,\n",
       "       1.76923077, 1.84615385, 1.92307692, 2.        ])"
      ]
     },
     "execution_count": 12,
     "metadata": {},
     "output_type": "execute_result"
    }
   ],
   "source": [
    "# 等差数列の作成\n",
    "d = np.linspace(1,2,14)\n",
    "d"
   ]
  },
  {
   "cell_type": "code",
   "execution_count": 25,
   "id": "247ccecc-3fcc-4a36-a80e-c85101668fdc",
   "metadata": {},
   "outputs": [],
   "source": [
    "a = np.arange(6)\n",
    "a = a.reshape(2,3)\n",
    "b = np.arange(6,12)\n",
    "b = b.reshape(2,3)"
   ]
  },
  {
   "cell_type": "code",
   "execution_count": 27,
   "id": "81086ff0-5059-40fd-801e-7278f010cd30",
   "metadata": {},
   "outputs": [
    {
     "data": {
      "text/plain": [
       "array([[ 0,  1,  2],\n",
       "       [ 3,  4,  5],\n",
       "       [ 6,  7,  8],\n",
       "       [ 9, 10, 11]])"
      ]
     },
     "execution_count": 27,
     "metadata": {},
     "output_type": "execute_result"
    }
   ],
   "source": [
    "np.r_[a,b]"
   ]
  },
  {
   "cell_type": "code",
   "execution_count": 30,
   "id": "4b263342-be57-41f7-bf0f-2160a0b80f2a",
   "metadata": {},
   "outputs": [
    {
     "data": {
      "text/plain": [
       "array([[ 0,  1,  2,  6,  7,  8],\n",
       "       [ 3,  4,  5,  9, 10, 11]])"
      ]
     },
     "execution_count": 30,
     "metadata": {},
     "output_type": "execute_result"
    }
   ],
   "source": [
    "np.c_[a,b]"
   ]
  },
  {
   "cell_type": "code",
   "execution_count": 32,
   "id": "36144ef1-45a3-4b76-987b-f82b88b9441d",
   "metadata": {},
   "outputs": [
    {
     "data": {
      "text/plain": [
       "array([0, 1, 2])"
      ]
     },
     "execution_count": 32,
     "metadata": {},
     "output_type": "execute_result"
    }
   ],
   "source": [
    "c = np.arange(3)\n",
    "d = np.arange(3,6)\n",
    "c"
   ]
  },
  {
   "cell_type": "code",
   "execution_count": 33,
   "id": "4a8d3360-4c69-485d-8af3-9131d399e297",
   "metadata": {},
   "outputs": [
    {
     "data": {
      "text/plain": [
       "array([3, 4, 5])"
      ]
     },
     "execution_count": 33,
     "metadata": {},
     "output_type": "execute_result"
    }
   ],
   "source": [
    "d"
   ]
  },
  {
   "cell_type": "code",
   "execution_count": 34,
   "id": "b93d20da-5791-4a3b-8e96-5843ab4336d3",
   "metadata": {},
   "outputs": [
    {
     "data": {
      "text/plain": [
       "array([0, 1, 2, 3, 4, 5])"
      ]
     },
     "execution_count": 34,
     "metadata": {},
     "output_type": "execute_result"
    }
   ],
   "source": [
    "np.r_[c,d]"
   ]
  },
  {
   "cell_type": "code",
   "execution_count": 35,
   "id": "af50e68b-cc89-4652-bff2-68a30465917d",
   "metadata": {},
   "outputs": [
    {
     "data": {
      "text/plain": [
       "array([[0, 3],\n",
       "       [1, 4],\n",
       "       [2, 5]])"
      ]
     },
     "execution_count": 35,
     "metadata": {},
     "output_type": "execute_result"
    }
   ],
   "source": [
    "np.c_[c,d]"
   ]
  },
  {
   "cell_type": "code",
   "execution_count": 37,
   "id": "80e5e629-e36b-4836-a86a-5b83ac04aab1",
   "metadata": {},
   "outputs": [
    {
     "data": {
      "text/plain": [
       "array([[0, 1, 2]])"
      ]
     },
     "execution_count": 37,
     "metadata": {},
     "output_type": "execute_result"
    }
   ],
   "source": [
    "c.reshape(1,-1)"
   ]
  },
  {
   "cell_type": "code",
   "execution_count": 39,
   "id": "300cf303-9a02-45ac-b5a9-2970673e41b6",
   "metadata": {},
   "outputs": [
    {
     "data": {
      "text/plain": [
       "array([0., 1., 2., 3., 4.])"
      ]
     },
     "execution_count": 39,
     "metadata": {},
     "output_type": "execute_result"
    }
   ],
   "source": [
    "a= np.arange(5.)\n",
    "a"
   ]
  },
  {
   "cell_type": "code",
   "execution_count": 40,
   "id": "f84170a4-2e7b-4f58-a748-dcbf1a1df7c8",
   "metadata": {},
   "outputs": [
    {
     "data": {
      "text/plain": [
       "10.0"
      ]
     },
     "execution_count": 40,
     "metadata": {},
     "output_type": "execute_result"
    }
   ],
   "source": [
    "a.sum()"
   ]
  },
  {
   "cell_type": "code",
   "execution_count": 41,
   "id": "69dbe473-85b3-49de-b830-f91c6892e22f",
   "metadata": {},
   "outputs": [
    {
     "data": {
      "text/plain": [
       "2.0"
      ]
     },
     "execution_count": 41,
     "metadata": {},
     "output_type": "execute_result"
    }
   ],
   "source": [
    "a.mean()"
   ]
  },
  {
   "cell_type": "code",
   "execution_count": 42,
   "id": "ebd920a1-a213-4c62-b1c9-9c526a1af1c8",
   "metadata": {},
   "outputs": [
    {
     "data": {
      "text/plain": [
       "4.0"
      ]
     },
     "execution_count": 42,
     "metadata": {},
     "output_type": "execute_result"
    }
   ],
   "source": [
    "a.max()"
   ]
  },
  {
   "cell_type": "code",
   "execution_count": 43,
   "id": "4b686f48-8a63-4e41-85f9-f670e2df08f1",
   "metadata": {},
   "outputs": [
    {
     "data": {
      "text/plain": [
       "0.0"
      ]
     },
     "execution_count": 43,
     "metadata": {},
     "output_type": "execute_result"
    }
   ],
   "source": [
    "a.min()"
   ]
  },
  {
   "cell_type": "code",
   "execution_count": 46,
   "id": "29133716-9b1d-474d-8ead-8e6e81ee3e9e",
   "metadata": {},
   "outputs": [
    {
     "data": {
      "text/plain": [
       "array([0., 3., 6.])"
      ]
     },
     "execution_count": 46,
     "metadata": {},
     "output_type": "execute_result"
    }
   ],
   "source": [
    "b = np.arange(9.).reshape(3,3)\n",
    "b.mean(axis=0)\n",
    "b.min(axis=1)"
   ]
  },
  {
   "cell_type": "code",
   "execution_count": 1,
   "id": "6954b076-20c1-47b1-8a4d-3e703c1833c5",
   "metadata": {},
   "outputs": [
    {
     "data": {
      "text/plain": [
       "array([3., 4., 5., 6., 7.])"
      ]
     },
     "execution_count": 1,
     "metadata": {},
     "output_type": "execute_result"
    }
   ],
   "source": [
    "import numpy as np\n",
    "a = np.arange(3., 8.)\n",
    "a"
   ]
  },
  {
   "cell_type": "code",
   "execution_count": 2,
   "id": "a1ce46c1-daaa-4034-b2b1-666e7c7ff21f",
   "metadata": {},
   "outputs": [
    {
     "data": {
      "text/plain": [
       "array([  20.08553692,   54.59815003,  148.4131591 ,  403.42879349,\n",
       "       1096.63315843])"
      ]
     },
     "execution_count": 2,
     "metadata": {},
     "output_type": "execute_result"
    }
   ],
   "source": [
    "np.exp(a)"
   ]
  },
  {
   "cell_type": "code",
   "execution_count": 3,
   "id": "9394398b-31e4-4db4-afbe-8c7ce2f9f3a4",
   "metadata": {},
   "outputs": [
    {
     "data": {
      "text/plain": [
       "array([1.09861229, 1.38629436, 1.60943791, 1.79175947, 1.94591015])"
      ]
     },
     "execution_count": 3,
     "metadata": {},
     "output_type": "execute_result"
    }
   ],
   "source": [
    "np.log(a)"
   ]
  },
  {
   "cell_type": "code",
   "execution_count": 4,
   "id": "10cc8482-73cc-4ea7-8cd9-1d868f556536",
   "metadata": {},
   "outputs": [
    {
     "data": {
      "text/plain": [
       "array([3., 4., 5., 6., 7.])"
      ]
     },
     "execution_count": 4,
     "metadata": {},
     "output_type": "execute_result"
    }
   ],
   "source": [
    "a"
   ]
  },
  {
   "cell_type": "code",
   "execution_count": 5,
   "id": "3ce35cf8-c388-4716-8231-85ee9f325508",
   "metadata": {},
   "outputs": [
    {
     "data": {
      "text/plain": [
       "array([1.73205081, 2.        , 2.23606798, 2.44948974, 2.64575131])"
      ]
     },
     "execution_count": 5,
     "metadata": {},
     "output_type": "execute_result"
    }
   ],
   "source": [
    "np.sqrt(a)"
   ]
  },
  {
   "cell_type": "code",
   "execution_count": 7,
   "id": "07b01bdb-ebec-4080-a095-b2469469aeb7",
   "metadata": {},
   "outputs": [
    {
     "data": {
      "text/plain": [
       "array([[0., 1., 2.],\n",
       "       [3., 4., 5.],\n",
       "       [6., 7., 8.]])"
      ]
     },
     "execution_count": 7,
     "metadata": {},
     "output_type": "execute_result"
    }
   ],
   "source": [
    "b = np.arange(9.).reshape(3,3)\n",
    "b"
   ]
  },
  {
   "cell_type": "code",
   "execution_count": 8,
   "id": "ee44eb44-16e1-4265-a09e-3eefe587f15e",
   "metadata": {},
   "outputs": [
    {
     "data": {
      "text/plain": [
       "array([[1.00000000e+00, 2.71828183e+00, 7.38905610e+00],\n",
       "       [2.00855369e+01, 5.45981500e+01, 1.48413159e+02],\n",
       "       [4.03428793e+02, 1.09663316e+03, 2.98095799e+03]])"
      ]
     },
     "execution_count": 8,
     "metadata": {},
     "output_type": "execute_result"
    }
   ],
   "source": [
    "np.exp(b)"
   ]
  },
  {
   "cell_type": "code",
   "execution_count": 9,
   "id": "8d5ca776-d104-481c-90c2-2a0101da4f72",
   "metadata": {},
   "outputs": [],
   "source": [
    "a = np.arange(5)"
   ]
  },
  {
   "cell_type": "code",
   "execution_count": 10,
   "id": "09cfe137-4e31-4a62-aa3c-0fa277133f83",
   "metadata": {},
   "outputs": [
    {
     "data": {
      "text/plain": [
       "array([3, 4, 5, 6, 7])"
      ]
     },
     "execution_count": 10,
     "metadata": {},
     "output_type": "execute_result"
    }
   ],
   "source": [
    "a+3"
   ]
  },
  {
   "cell_type": "code",
   "execution_count": 11,
   "id": "82df45be-09a2-44c4-96fc-c17272ef55cf",
   "metadata": {},
   "outputs": [
    {
     "data": {
      "text/plain": [
       "array([False, False, False,  True,  True])"
      ]
     },
     "execution_count": 11,
     "metadata": {},
     "output_type": "execute_result"
    }
   ],
   "source": [
    "a>2"
   ]
  },
  {
   "cell_type": "code",
   "execution_count": 13,
   "id": "3a3505b9-fe2b-4601-9b79-d5977944b03d",
   "metadata": {},
   "outputs": [
    {
     "data": {
      "text/plain": [
       "array([ True,  True,  True, False,  True])"
      ]
     },
     "execution_count": 13,
     "metadata": {},
     "output_type": "execute_result"
    }
   ],
   "source": [
    "a!=3"
   ]
  },
  {
   "cell_type": "code",
   "execution_count": 14,
   "id": "b33b54b2-b9a8-45be-afe6-a05e38609293",
   "metadata": {},
   "outputs": [],
   "source": [
    "a= np.array([10,20,30,40])"
   ]
  },
  {
   "cell_type": "code",
   "execution_count": 15,
   "id": "ac2044eb-b28c-43a8-bef7-52d6563806d7",
   "metadata": {},
   "outputs": [],
   "source": [
    "b=np.array([False,True,True,False])"
   ]
  },
  {
   "cell_type": "code",
   "execution_count": 18,
   "id": "7cf881dd-3b7a-4f25-b36c-db353875bf85",
   "metadata": {},
   "outputs": [
    {
     "data": {
      "text/plain": [
       "array([20, 30])"
      ]
     },
     "execution_count": 18,
     "metadata": {},
     "output_type": "execute_result"
    }
   ],
   "source": [
    "c = a[b]\n",
    "c"
   ]
  },
  {
   "cell_type": "code",
   "execution_count": 3,
   "id": "4743fe05-2a40-450a-a5bb-8995f70b041c",
   "metadata": {},
   "outputs": [
    {
     "data": {
      "text/plain": [
       "array([[0., 1., 0., 2., 0.],\n",
       "       [0., 0., 0., 0., 0.],\n",
       "       [0., 0., 3., 0., 0.],\n",
       "       [0., 0., 0., 0., 4.]])"
      ]
     },
     "execution_count": 3,
     "metadata": {},
     "output_type": "execute_result"
    }
   ],
   "source": [
    "from scipy import sparse\n",
    "a = sparse.lil_matrix((4,5))\n",
    "a[0,1] = 1.\n",
    "a[0,3] = 2.\n",
    "a[2,2] = 3.\n",
    "a[3,4] = 4.\n",
    "a.toarray()\n"
   ]
  },
  {
   "cell_type": "code",
   "execution_count": 7,
   "id": "07bed508-a42e-466d-9dff-0ed703129f33",
   "metadata": {},
   "outputs": [
    {
     "data": {
      "text/plain": [
       "array([[0., 0., 1., 0.],\n",
       "       [0., 0., 2., 0.],\n",
       "       [0., 0., 0., 3.],\n",
       "       [0., 0., 0., 4.],\n",
       "       [0., 0., 0., 0.]])"
      ]
     },
     "execution_count": 7,
     "metadata": {},
     "output_type": "execute_result"
    }
   ],
   "source": [
    "b = sparse.lil_matrix((5,4))\n",
    "b[0,2] = 1.\n",
    "b[1,2] = 2.\n",
    "b[2,3] = 3.\n",
    "b[3,3] = 4.\n",
    "b.toarray()"
   ]
  },
  {
   "cell_type": "code",
   "execution_count": 11,
   "id": "57ffd481-8bcc-489c-92b0-f33bfbb65488",
   "metadata": {},
   "outputs": [],
   "source": [
    "c = a.dot(b)"
   ]
  },
  {
   "cell_type": "code",
   "execution_count": 10,
   "id": "ff893cd3-ac42-4c39-875e-4240aa55f547",
   "metadata": {},
   "outputs": [
    {
     "data": {
      "text/plain": [
       "array([[0., 0., 2., 8.],\n",
       "       [0., 0., 0., 0.],\n",
       "       [0., 0., 0., 9.],\n",
       "       [0., 0., 0., 0.]])"
      ]
     },
     "execution_count": 10,
     "metadata": {},
     "output_type": "execute_result"
    }
   ],
   "source": [
    "c.toarray()"
   ]
  },
  {
   "cell_type": "code",
   "execution_count": 13,
   "id": "4420983b-abfc-428d-b631-1b5d65e7d892",
   "metadata": {},
   "outputs": [],
   "source": [
    "a1 =a.tocsr()"
   ]
  },
  {
   "cell_type": "code",
   "execution_count": 15,
   "id": "9c80c3b3-e3a3-4cae-a3e5-e599c96d362b",
   "metadata": {},
   "outputs": [
    {
     "data": {
      "text/plain": [
       "array([[0., 0., 2., 8.],\n",
       "       [0., 0., 0., 0.],\n",
       "       [0., 0., 0., 9.],\n",
       "       [0., 0., 0., 0.]])"
      ]
     },
     "execution_count": 15,
     "metadata": {},
     "output_type": "execute_result"
    }
   ],
   "source": [
    "b1 =b.tocsr()\n",
    "c1 = a1.dot(b1)\n",
    "c1.toarray()"
   ]
  },
  {
   "cell_type": "code",
   "execution_count": 4,
   "id": "0133937b-55eb-41fb-9afa-371dccef7d9c",
   "metadata": {},
   "outputs": [
    {
     "data": {
      "text/plain": [
       "array([[ 0.42857143, -0.28571429, -0.14285714],\n",
       "       [-0.14285714,  0.42857143, -0.28571429],\n",
       "       [-0.14285714,  0.42857143,  0.71428571]])"
      ]
     },
     "execution_count": 4,
     "metadata": {},
     "output_type": "execute_result"
    }
   ],
   "source": [
    "import numpy as np\n",
    "a = np.array([[3,1,1],[1,2,1],[0,-1,1]])\n",
    "np.linalg.inv(a)"
   ]
  },
  {
   "cell_type": "code",
   "execution_count": 5,
   "id": "142c165c-dce1-44f2-933d-385702495f7e",
   "metadata": {},
   "outputs": [
    {
     "data": {
      "text/plain": [
       "array([-0.57142857, -0.14285714,  2.85714286])"
      ]
     },
     "execution_count": 5,
     "metadata": {},
     "output_type": "execute_result"
    }
   ],
   "source": [
    "b = np.array([1,2,3])\n",
    "np.linalg.solve(a,b)"
   ]
  },
  {
   "cell_type": "code",
   "execution_count": 8,
   "id": "9549f4f4-df7d-4a5a-89bb-10082d55eab6",
   "metadata": {},
   "outputs": [
    {
     "name": "stdout",
     "output_type": "stream",
     "text": [
      "[[ 3.          1.          1.        ]\n",
      " [ 0.33333333  1.66666667  0.66666667]\n",
      " [ 0.         -0.6         1.4       ]]\n",
      "[0 1 2]\n"
     ]
    },
    {
     "data": {
      "text/plain": [
       "array([-0.57142857, -0.14285714,  2.85714286])"
      ]
     },
     "execution_count": 8,
     "metadata": {},
     "output_type": "execute_result"
    }
   ],
   "source": [
    "a = np.array([[3,1,1],[1,2,1],[0,-1,1]])\n",
    "b = np.array([1,2,3])\n",
    "from scipy import linalg\n",
    "lu, p = linalg.lu_factor(a)\n",
    "print(lu)\n",
    "print(p)\n",
    "linalg.lu_solve((lu, p), b)\n"
   ]
  },
  {
   "cell_type": "code",
   "execution_count": 1,
   "id": "b6b5b17b-d6e4-45fe-be15-0cbb68c82719",
   "metadata": {},
   "outputs": [
    {
     "data": {
      "text/plain": [
       "0.31824639387654563"
      ]
     },
     "execution_count": 1,
     "metadata": {},
     "output_type": "execute_result"
    }
   ],
   "source": [
    "import numpy as np\n",
    "np.random.rand()"
   ]
  },
  {
   "cell_type": "code",
   "execution_count": 2,
   "id": "621ba0c3-d982-40bc-82e7-2894153441eb",
   "metadata": {},
   "outputs": [
    {
     "data": {
      "text/plain": [
       "array([[0.4749391 , 0.21019651],\n",
       "       [0.60714724, 0.03950084],\n",
       "       [0.18080814, 0.5497114 ]])"
      ]
     },
     "execution_count": 2,
     "metadata": {},
     "output_type": "execute_result"
    }
   ],
   "source": [
    "np.random.rand(3,2)"
   ]
  },
  {
   "cell_type": "code",
   "execution_count": 3,
   "id": "8b397945-be7b-4e58-9c0f-ac297d10c857",
   "metadata": {},
   "outputs": [
    {
     "data": {
      "text/plain": [
       "array([0.4417212 , 0.35603032, 0.19707596, 0.71638726, 0.12988895])"
      ]
     },
     "execution_count": 3,
     "metadata": {},
     "output_type": "execute_result"
    }
   ],
   "source": [
    "np.random.rand(5)"
   ]
  },
  {
   "cell_type": "code",
   "execution_count": 32,
   "id": "9b4e4b74-a9a0-4d02-ba2c-f3a0dbb06d1d",
   "metadata": {},
   "outputs": [
    {
     "data": {
      "text/plain": [
       "0"
      ]
     },
     "execution_count": 32,
     "metadata": {},
     "output_type": "execute_result"
    }
   ],
   "source": [
    "np.random.randint(1)"
   ]
  },
  {
   "cell_type": "code",
   "execution_count": 69,
   "id": "5a094448-6764-46b0-b4cb-61c55d1eecab",
   "metadata": {},
   "outputs": [
    {
     "data": {
      "text/plain": [
       "10"
      ]
     },
     "execution_count": 69,
     "metadata": {},
     "output_type": "execute_result"
    }
   ],
   "source": [
    "np.random.randint(10,11)"
   ]
  },
  {
   "cell_type": "code",
   "execution_count": 101,
   "id": "0c9b6410-8166-4576-98f0-76164f3b3d9e",
   "metadata": {},
   "outputs": [
    {
     "data": {
      "text/plain": [
       "array([[4],\n",
       "       [3],\n",
       "       [0]])"
      ]
     },
     "execution_count": 101,
     "metadata": {},
     "output_type": "execute_result"
    }
   ],
   "source": [
    "np.random.randint(5,size=(3,1))"
   ]
  },
  {
   "cell_type": "code",
   "execution_count": 102,
   "id": "e852e953-9a3a-4547-888f-4baa0a8a0ba4",
   "metadata": {},
   "outputs": [
    {
     "data": {
      "text/plain": [
       "array([[1, 4, 2],\n",
       "       [0, 4, 3],\n",
       "       [0, 1, 3]])"
      ]
     },
     "execution_count": 102,
     "metadata": {},
     "output_type": "execute_result"
    }
   ],
   "source": [
    "np.random.randint(5,size=(3,3))"
   ]
  },
  {
   "cell_type": "code",
   "execution_count": 104,
   "id": "a6ba85e8-0772-4acd-9de8-d00dd73900b7",
   "metadata": {},
   "outputs": [],
   "source": [
    "def throw_dice(n):\n",
    "    return np.random.randint(1,7, size=n).sum()"
   ]
  },
  {
   "cell_type": "code",
   "execution_count": 111,
   "id": "2e362ad3-4519-4a4f-b090-fa720b9d3076",
   "metadata": {},
   "outputs": [
    {
     "data": {
      "text/plain": [
       "41"
      ]
     },
     "execution_count": 111,
     "metadata": {},
     "output_type": "execute_result"
    }
   ],
   "source": [
    "throw_dice(10)"
   ]
  },
  {
   "cell_type": "code",
   "execution_count": 128,
   "id": "16056187-af82-4ecd-8dcf-fb838224a7c1",
   "metadata": {},
   "outputs": [
    {
     "data": {
      "text/plain": [
       "array([0.77132064, 0.02075195, 0.63364823, 0.74880388, 0.49850701])"
      ]
     },
     "execution_count": 128,
     "metadata": {},
     "output_type": "execute_result"
    }
   ],
   "source": [
    "np.random.seed(10)\n",
    "np.random.rand(5)"
   ]
  },
  {
   "cell_type": "code",
   "execution_count": 123,
   "id": "d7ef7a3c-049f-441c-87b3-da01e6d0c749",
   "metadata": {},
   "outputs": [
    {
     "data": {
      "text/plain": [
       "array([0.8052232 , 0.52164715, 0.90864888, 0.31923609, 0.09045935])"
      ]
     },
     "execution_count": 123,
     "metadata": {},
     "output_type": "execute_result"
    }
   ],
   "source": [
    "np.random.rand(5)"
   ]
  },
  {
   "cell_type": "code",
   "execution_count": 1,
   "id": "03a2c881-2dde-4940-8515-959f729ba173",
   "metadata": {},
   "outputs": [],
   "source": [
    "def throw_dice(n =10):\n",
    "    np.random.seed(10)\n",
    "    return np.random.randint(1,7, size=n).sum()"
   ]
  },
  {
   "cell_type": "code",
   "execution_count": 2,
   "id": "d637b5c8-70b6-47ef-aafb-30917e696f61",
   "metadata": {},
   "outputs": [
    {
     "ename": "NameError",
     "evalue": "name 'np' is not defined",
     "output_type": "error",
     "traceback": [
      "\u001b[0;31m---------------------------------------------------------------------------\u001b[0m",
      "\u001b[0;31mNameError\u001b[0m                                 Traceback (most recent call last)",
      "Cell \u001b[0;32mIn[2], line 1\u001b[0m\n\u001b[0;32m----> 1\u001b[0m \u001b[43mthrow_dice\u001b[49m\u001b[43m(\u001b[49m\u001b[43m)\u001b[49m\n",
      "Cell \u001b[0;32mIn[1], line 2\u001b[0m, in \u001b[0;36mthrow_dice\u001b[0;34m(n)\u001b[0m\n\u001b[1;32m      1\u001b[0m \u001b[38;5;28;01mdef\u001b[39;00m \u001b[38;5;21mthrow_dice\u001b[39m(n \u001b[38;5;241m=\u001b[39m\u001b[38;5;241m10\u001b[39m):\n\u001b[0;32m----> 2\u001b[0m     \u001b[43mnp\u001b[49m\u001b[38;5;241m.\u001b[39mrandom\u001b[38;5;241m.\u001b[39mseed(\u001b[38;5;241m10\u001b[39m)\n\u001b[1;32m      3\u001b[0m     \u001b[38;5;28;01mreturn\u001b[39;00m np\u001b[38;5;241m.\u001b[39mrandom\u001b[38;5;241m.\u001b[39mrandint(\u001b[38;5;241m1\u001b[39m,\u001b[38;5;241m7\u001b[39m, size\u001b[38;5;241m=\u001b[39mn)\u001b[38;5;241m.\u001b[39msum()\n",
      "\u001b[0;31mNameError\u001b[0m: name 'np' is not defined"
     ]
    }
   ],
   "source": [
    "throw_dice()"
   ]
  },
  {
   "cell_type": "code",
   "execution_count": 3,
   "id": "a568594d-b451-4d32-ab92-cb33cc10a567",
   "metadata": {},
   "outputs": [],
   "source": [
    "import numpy as np\n",
    "\n",
    "class Dice:\n",
    "    def __init__(self):\n",
    "        np.random.seed(0)\n",
    "        self.sum_ =0\n",
    "\n",
    "    def throw(self):\n",
    "        self.sum_ += np.random.randint(1,7)\n",
    "\n",
    "    def get_sum(self):\n",
    "        return self.sum_"
   ]
  },
  {
   "cell_type": "code",
   "execution_count": 4,
   "id": "5476445f-26d4-40ce-9681-8f398930f11b",
   "metadata": {},
   "outputs": [],
   "source": [
    "d1 = Dice()"
   ]
  },
  {
   "cell_type": "code",
   "execution_count": 5,
   "id": "fd79322c-a669-4f30-b5ab-686ae002c814",
   "metadata": {},
   "outputs": [
    {
     "data": {
      "text/plain": [
       "39"
      ]
     },
     "execution_count": 5,
     "metadata": {},
     "output_type": "execute_result"
    }
   ],
   "source": [
    "for _ in range(10):\n",
    "    d1.throw()\n",
    "\n",
    "d1.get_sum()\n"
   ]
  },
  {
   "cell_type": "code",
   "execution_count": 6,
   "id": "2200c1bf-b417-4abe-92dd-92214ddae21c",
   "metadata": {},
   "outputs": [
    {
     "data": {
      "text/plain": [
       "39"
      ]
     },
     "execution_count": 6,
     "metadata": {},
     "output_type": "execute_result"
    }
   ],
   "source": [
    "d2 = Dice()\n",
    "\n",
    "for _ in range(10):\n",
    "    d2.throw()\n",
    "\n",
    "d2.get_sum()"
   ]
  },
  {
   "cell_type": "code",
   "execution_count": 9,
   "id": "9980d0e9-fb12-4f56-b391-dc6615bff5f7",
   "metadata": {},
   "outputs": [
    {
     "data": {
      "text/plain": [
       "0.771320643266746"
      ]
     },
     "execution_count": 9,
     "metadata": {},
     "output_type": "execute_result"
    }
   ],
   "source": [
    "rs = np.random.RandomState(10)\n",
    "rs.rand()"
   ]
  },
  {
   "cell_type": "code",
   "execution_count": 11,
   "id": "717dcf22-c1a8-4f93-ab99-9b4f1170b361",
   "metadata": {},
   "outputs": [
    {
     "data": {
      "text/plain": [
       "0.0207519493594015"
      ]
     },
     "execution_count": 11,
     "metadata": {},
     "output_type": "execute_result"
    }
   ],
   "source": [
    "rs.rand()"
   ]
  },
  {
   "cell_type": "code",
   "execution_count": 12,
   "id": "e12a5013-cba5-4693-85ed-b9976cbfda7a",
   "metadata": {},
   "outputs": [
    {
     "data": {
      "image/png": "[encoded data removed]",
      "text/plain": [
       "<Figure size 640x480 with 1 Axes>"
      ]
     },
     "metadata": {},
     "output_type": "display_data"
    }
   ],
   "source": [
    "import numpy as np\n",
    "import matplotlib.pyplot as plt\n",
    "x=np.array([0,1,2,3])\n",
    "y=np.array([3,7,4,8])\n",
    "\n",
    "plt.plot(x,y, color='red')\n",
    "plt.show()"
   ]
  },
  {
   "cell_type": "code",
   "execution_count": 1,
   "id": "a6ac4133-35ad-48b5-b4f0-ed1c3b31dc03",
   "metadata": {},
   "outputs": [
    {
     "data": {
      "image/png": "[encoded data removed]",
      "text/plain": [
       "<Figure size 640x480 with 1 Axes>"
      ]
     },
     "metadata": {},
     "output_type": "display_data"
    }
   ],
   "source": [
    "import numpy as np\n",
    "import matplotlib.pyplot as plt\n",
    "\n",
    "x = np.array([0,1,2,3])\n",
    "y = np.array([3,7,4,8])\n",
    "plt.scatter(x,y,color='r')\n",
    "plt.show()"
   ]
  },
  {
   "cell_type": "code",
   "execution_count": 4,
   "id": "c665d199-6c86-47f5-bd7c-09633a6454ff",
   "metadata": {},
   "outputs": [
    {
     "data": {
      "image/png": "[encoded data removed]",
      "text/plain": [
       "<Figure size 640x480 with 1 Axes>"
      ]
     },
     "metadata": {},
     "output_type": "display_data"
    }
   ],
   "source": [
    "import numpy as np\n",
    "import matplotlib.pyplot as plt\n",
    "x =np.linspace(-5,5,300)\n",
    "y = x**2\n",
    "plt.plot(x,y,color='r')\n",
    "plt.show()"
   ]
  },
  {
   "cell_type": "code",
   "execution_count": 5,
   "id": "19eb3420-d89e-4060-8fce-0ae06cd8e4f0",
   "metadata": {},
   "outputs": [
    {
     "data": {
      "image/png": "[encoded data removed]",
      "text/plain": [
       "<Figure size 640x480 with 1 Axes>"
      ]
     },
     "metadata": {},
     "output_type": "display_data"
    }
   ],
   "source": [
    "x = np.linspace(-5,5,300)\n",
    "y1 = x**2\n",
    "y2 = (x - 2)**2\n",
    "\n",
    "plt.plot(x,y1,color='r')\n",
    "plt.plot(x,y2,color='k', linestyle='--')\n",
    "plt.show()"
   ]
  },
  {
   "cell_type": "code",
   "execution_count": 19,
   "id": "8daf3045-1955-4eaf-aade-12ed431d4f65",
   "metadata": {},
   "outputs": [
    {
     "data": {
      "image/png": "[encoded data removed]",
      "text/plain": [
       "<Figure size 640x480 with 1 Axes>"
      ]
     },
     "metadata": {},
     "output_type": "display_data"
    }
   ],
   "source": [
    "# histグラムの表示\n",
    "import numpy as np\n",
    "import matplotlib.pyplot as plt\n",
    "np.random.seed(0)\n",
    "l = []\n",
    "for _ in range(1000):\n",
    "    l.append(np.random.randint(1,7,size=10).sum())\n",
    "\n",
    "plt.hist(l,np.arange(15,50,2),color='gray')\n",
    "plt.show()"
   ]
  },
  {
   "cell_type": "raw",
   "id": "fe0dc637-e805-46a7-8471-2f5b650b5668",
   "metadata": {},
   "source": [
    "# 並べてグラフ表示\n",
    "import numpy as np\n",
    "import matplotlib.pyplot as plt\n",
    "x = np.linspace(-5,5,300)\n",
    "sin_x = np.sin(x)\n",
    "cos_x = np.cos(x)\n",
    "fig,axes = plt.subplots(2,1)\n",
    "axes[0].set_ylim([-1.5,1.5])\n",
    "axes[1].set_ylim([-1.5,1.5])\n",
    "axes[0].plot(x, sin_x,color='r')\n",
    "axes[1].plot(x,cos_x, color='k')\n",
    "plt.show()"
   ]
  },
  {
   "cell_type": "code",
   "execution_count": 25,
   "id": "9d788317-5022-436a-b98b-a8be98515eb8",
   "metadata": {},
   "outputs": [
    {
     "name": "stdout",
     "output_type": "stream",
     "text": [
      "[31.25      30.9166704 30.5855779 ... 30.5855779 30.9166704 31.25     ]\n"
     ]
    },
    {
     "data": {
      "image/png": "[encoded data removed]",
      "text/plain": [
       "<Figure size 640x480 with 1 Axes>"
      ]
     },
     "metadata": {},
     "output_type": "display_data"
    }
   ],
   "source": [
    "import matplotlib.pyplot as plt\n",
    "import numpy as np\n",
    "def f(x,y):\n",
    "    print(x**2 + y**2 /4)\n",
    "    return x**2 + y**2 /4\n",
    "x = np.linspace(-5,5,300)\n",
    "y = np.linspace(-5,5,300)\n",
    "xmesh, ymesh = np.meshgrid(x,y)\n",
    "z = f(xmesh.ravel(), ymesh.ravel()).reshape(xmesh.shape)\n",
    "\n",
    "plt.contour(x,y,z,colors='k',levels=[1,2,3,4,5])\n",
    "plt.show()"
   ]
  },
  {
   "cell_type": "code",
   "execution_count": 1,
   "id": "67c6b357-fab4-46aa-94f6-88c66849e81a",
   "metadata": {},
   "outputs": [
    {
     "name": "stdout",
     "output_type": "stream",
     "text": [
      "[400. 200.]\n",
      "-1999.9999999999998\n"
     ]
    }
   ],
   "source": [
    "import numpy as np\n",
    "from scipy import optimize\n",
    "\n",
    "c = np.array([-3,-4], dtype = np.float64)\n",
    "G = np.array([[1,4],[2,3],[2,1]],dtype=np.float64)\n",
    "h = np.array([1700, 1400, 1000],np.float64)\n",
    "sol = optimize.linprog(c,A_ub=G,b_ub=h,bounds=(0,None))\n",
    "\n",
    "print(sol.x)\n",
    "print(sol.fun)\n"
   ]
  },
  {
   "cell_type": "code",
   "execution_count": 1,
   "id": "e5de4124-8964-47f1-8c0a-5c23f28f18e7",
   "metadata": {},
   "outputs": [],
   "source": [
    "# 勾配降下法\n",
    "import numpy as np\n",
    "class GradientDescent:\n",
    "    def __init__(self,f,df,alpha=0.01,eps=1e-6):\n",
    "        self.f = f\n",
    "        self.df = df\n",
    "        self.eps = eps\n",
    "        self.path = None\n",
    "\n",
    "    def solve(self, init):\n",
    "        x = init\n",
    "        path = []\n",
    "        grad = self.df(x)\n",
    "        path.append(x)\n",
    "        while (grad**2).sum() > self.eps**2:\n",
    "            x=x - self.alpha *grad\n",
    "            grad = self.df(x)\n",
    "            path.append(x)\n",
    "        self.path_ = np.array(path)\n",
    "        self.x_ = x\n",
    "        self.opt_ = self.f(x)"
   ]
  },
  {
   "cell_type": "code",
   "execution_count": 7,
   "id": "20a166ae-93de-4920-8e62-13c58046f985",
   "metadata": {},
   "outputs": [
    {
     "ename": "ImportError",
     "evalue": "cannot import name 'cyclic_xor_string' from 'xor_cipher' (/Users/takigawakoki/Library/Caches/pypoetry/virtualenvs/ml-essence-iRb4gPye-py3.10/lib/python3.10/site-packages/xor_cipher/__init__.py)",
     "output_type": "error",
     "traceback": [
      "\u001b[0;31m---------------------------------------------------------------------------\u001b[0m",
      "\u001b[0;31mImportError\u001b[0m                               Traceback (most recent call last)",
      "Cell \u001b[0;32mIn[7], line 3\u001b[0m\n\u001b[1;32m      1\u001b[0m \u001b[38;5;28;01mimport\u001b[39;00m \u001b[38;5;21;01mnumpy\u001b[39;00m \u001b[38;5;28;01mas\u001b[39;00m \u001b[38;5;21;01mnp\u001b[39;00m\n\u001b[1;32m      2\u001b[0m \u001b[38;5;28;01mimport\u001b[39;00m \u001b[38;5;21;01mmatplotlib\u001b[39;00m\u001b[38;5;21;01m.\u001b[39;00m\u001b[38;5;21;01mpyplot\u001b[39;00m \u001b[38;5;28;01mas\u001b[39;00m \u001b[38;5;21;01mplt\u001b[39;00m\n\u001b[0;32m----> 3\u001b[0m \u001b[38;5;28;01mimport\u001b[39;00m \u001b[38;5;21;01mgd\u001b[39;00m\n\u001b[1;32m      5\u001b[0m \u001b[38;5;28;01mdef\u001b[39;00m \u001b[38;5;21mf\u001b[39m(xx):\n\u001b[1;32m      6\u001b[0m     x \u001b[38;5;241m=\u001b[39m xx[\u001b[38;5;241m0\u001b[39m]\n",
      "File \u001b[0;32m~/Library/Caches/pypoetry/virtualenvs/ml-essence-iRb4gPye-py3.10/lib/python3.10/site-packages/gd/__init__.py:11\u001b[0m\n\u001b[1;32m      8\u001b[0m __license__ \u001b[38;5;241m=\u001b[39m \u001b[38;5;124m\"\u001b[39m\u001b[38;5;124mMIT\u001b[39m\u001b[38;5;124m\"\u001b[39m\n\u001b[1;32m      9\u001b[0m __version__ \u001b[38;5;241m=\u001b[39m \u001b[38;5;124m\"\u001b[39m\u001b[38;5;124m1.0.1\u001b[39m\u001b[38;5;124m\"\u001b[39m\n\u001b[0;32m---> 11\u001b[0m \u001b[38;5;28;01mfrom\u001b[39;00m \u001b[38;5;21;01mgd\u001b[39;00m \u001b[38;5;28;01mimport\u001b[39;00m (\n\u001b[1;32m     12\u001b[0m     api,\n\u001b[1;32m     13\u001b[0m     binary,\n\u001b[1;32m     14\u001b[0m     encoding,\n\u001b[1;32m     15\u001b[0m     events,\n\u001b[1;32m     16\u001b[0m     image,\n\u001b[1;32m     17\u001b[0m     memory,\n\u001b[1;32m     18\u001b[0m     models,\n\u001b[1;32m     19\u001b[0m     named_dicts,\n\u001b[1;32m     20\u001b[0m     robtop,\n\u001b[1;32m     21\u001b[0m     server,\n\u001b[1;32m     22\u001b[0m     tasks,\n\u001b[1;32m     23\u001b[0m )\n\u001b[1;32m     24\u001b[0m \u001b[38;5;28;01mfrom\u001b[39;00m \u001b[38;5;21;01mgd\u001b[39;00m\u001b[38;5;21;01m.\u001b[39;00m\u001b[38;5;21;01martist\u001b[39;00m \u001b[38;5;28;01mimport\u001b[39;00m Artist\n\u001b[1;32m     25\u001b[0m \u001b[38;5;28;01mfrom\u001b[39;00m \u001b[38;5;21;01mgd\u001b[39;00m\u001b[38;5;21;01m.\u001b[39;00m\u001b[38;5;21;01mbinary\u001b[39;00m \u001b[38;5;28;01mimport\u001b[39;00m BinaryInfo\n",
      "File \u001b[0;32m~/Library/Caches/pypoetry/virtualenvs/ml-essence-iRb4gPye-py3.10/lib/python3.10/site-packages/gd/api/__init__.py:1\u001b[0m\n\u001b[0;32m----> 1\u001b[0m \u001b[38;5;28;01mfrom\u001b[39;00m \u001b[38;5;21;01mgd\u001b[39;00m\u001b[38;5;21;01m.\u001b[39;00m\u001b[38;5;21;01mapi\u001b[39;00m\u001b[38;5;21;01m.\u001b[39;00m\u001b[38;5;21;01mcolor_channels\u001b[39;00m \u001b[38;5;28;01mimport\u001b[39;00m (\n\u001b[1;32m      2\u001b[0m     ColorChannel,\n\u001b[1;32m      3\u001b[0m     ColorChannels,\n\u001b[1;32m      4\u001b[0m     CopiedColorChannel,\n\u001b[1;32m      5\u001b[0m     NormalColorChannel,\n\u001b[1;32m      6\u001b[0m     PlayerColorChannel,\n\u001b[1;32m      7\u001b[0m )\n\u001b[1;32m      8\u001b[0m \u001b[38;5;28;01mfrom\u001b[39;00m \u001b[38;5;21;01mgd\u001b[39;00m\u001b[38;5;21;01m.\u001b[39;00m\u001b[38;5;21;01mapi\u001b[39;00m\u001b[38;5;21;01m.\u001b[39;00m\u001b[38;5;21;01mdatabase\u001b[39;00m \u001b[38;5;28;01mimport\u001b[39;00m Database\n\u001b[1;32m      9\u001b[0m \u001b[38;5;28;01mfrom\u001b[39;00m \u001b[38;5;21;01mgd\u001b[39;00m\u001b[38;5;21;01m.\u001b[39;00m\u001b[38;5;21;01mapi\u001b[39;00m\u001b[38;5;21;01m.\u001b[39;00m\u001b[38;5;21;01meditor\u001b[39;00m \u001b[38;5;28;01mimport\u001b[39;00m Editor\n",
      "File \u001b[0;32m~/Library/Caches/pypoetry/virtualenvs/ml-essence-iRb4gPye-py3.10/lib/python3.10/site-packages/gd/api/color_channels.py:11\u001b[0m\n\u001b[1;32m      8\u001b[0m \u001b[38;5;28;01mfrom\u001b[39;00m \u001b[38;5;21;01miters\u001b[39;00m\u001b[38;5;21;01m.\u001b[39;00m\u001b[38;5;21;01miters\u001b[39;00m \u001b[38;5;28;01mimport\u001b[39;00m \u001b[38;5;28miter\u001b[39m\n\u001b[1;32m      9\u001b[0m \u001b[38;5;28;01mfrom\u001b[39;00m \u001b[38;5;21;01mtyping_extensions\u001b[39;00m \u001b[38;5;28;01mimport\u001b[39;00m TypeGuard\n\u001b[0;32m---> 11\u001b[0m \u001b[38;5;28;01mfrom\u001b[39;00m \u001b[38;5;21;01mgd\u001b[39;00m\u001b[38;5;21;01m.\u001b[39;00m\u001b[38;5;21;01mapi\u001b[39;00m\u001b[38;5;21;01m.\u001b[39;00m\u001b[38;5;21;01mhsv\u001b[39;00m \u001b[38;5;28;01mimport\u001b[39;00m HSV\n\u001b[1;32m     12\u001b[0m \u001b[38;5;28;01mfrom\u001b[39;00m \u001b[38;5;21;01mgd\u001b[39;00m\u001b[38;5;21;01m.\u001b[39;00m\u001b[38;5;21;01mbinary\u001b[39;00m \u001b[38;5;28;01mimport\u001b[39;00m VERSION, Binary, BinaryReader, BinaryWriter\n\u001b[1;32m     13\u001b[0m \u001b[38;5;28;01mfrom\u001b[39;00m \u001b[38;5;21;01mgd\u001b[39;00m\u001b[38;5;21;01m.\u001b[39;00m\u001b[38;5;21;01mbinary_constants\u001b[39;00m \u001b[38;5;28;01mimport\u001b[39;00m BITS, BYTE\n",
      "File \u001b[0;32m~/Library/Caches/pypoetry/virtualenvs/ml-essence-iRb4gPye-py3.10/lib/python3.10/site-packages/gd/api/hsv.py:6\u001b[0m\n\u001b[1;32m      3\u001b[0m \u001b[38;5;28;01mfrom\u001b[39;00m \u001b[38;5;21;01mattrs\u001b[39;00m \u001b[38;5;28;01mimport\u001b[39;00m define, field\n\u001b[1;32m      4\u001b[0m \u001b[38;5;28;01mfrom\u001b[39;00m \u001b[38;5;21;01mtyping_aliases\u001b[39;00m \u001b[38;5;28;01mimport\u001b[39;00m Unary\n\u001b[0;32m----> 6\u001b[0m \u001b[38;5;28;01mfrom\u001b[39;00m \u001b[38;5;21;01mgd\u001b[39;00m\u001b[38;5;21;01m.\u001b[39;00m\u001b[38;5;21;01mbinary\u001b[39;00m \u001b[38;5;28;01mimport\u001b[39;00m VERSION, Binary, BinaryReader, BinaryWriter\n\u001b[1;32m      7\u001b[0m \u001b[38;5;28;01mfrom\u001b[39;00m \u001b[38;5;21;01mgd\u001b[39;00m\u001b[38;5;21;01m.\u001b[39;00m\u001b[38;5;21;01mbinary_constants\u001b[39;00m \u001b[38;5;28;01mimport\u001b[39;00m BITS, BYTE\n\u001b[1;32m      8\u001b[0m \u001b[38;5;28;01mfrom\u001b[39;00m \u001b[38;5;21;01mgd\u001b[39;00m\u001b[38;5;21;01m.\u001b[39;00m\u001b[38;5;21;01mbinary_utils\u001b[39;00m \u001b[38;5;28;01mimport\u001b[39;00m Reader, Writer\n",
      "File \u001b[0;32m~/Library/Caches/pypoetry/virtualenvs/ml-essence-iRb4gPye-py3.10/lib/python3.10/site-packages/gd/binary.py:13\u001b[0m\n\u001b[1;32m     10\u001b[0m \u001b[38;5;28;01mfrom\u001b[39;00m \u001b[38;5;21;01mtyping_extensions\u001b[39;00m \u001b[38;5;28;01mimport\u001b[39;00m Protocol, TypeGuard, runtime_checkable\n\u001b[1;32m     12\u001b[0m \u001b[38;5;28;01mfrom\u001b[39;00m \u001b[38;5;21;01mgd\u001b[39;00m\u001b[38;5;21;01m.\u001b[39;00m\u001b[38;5;21;01mconstants\u001b[39;00m \u001b[38;5;28;01mimport\u001b[39;00m DEFAULT_ENCODING, DEFAULT_ERRORS, READ_BINARY, WRITE_BINARY\n\u001b[0;32m---> 13\u001b[0m \u001b[38;5;28;01mfrom\u001b[39;00m \u001b[38;5;21;01mgd\u001b[39;00m\u001b[38;5;21;01m.\u001b[39;00m\u001b[38;5;21;01mencoding\u001b[39;00m \u001b[38;5;28;01mimport\u001b[39;00m compress, decompress\n\u001b[1;32m     14\u001b[0m \u001b[38;5;28;01mfrom\u001b[39;00m \u001b[38;5;21;01mgd\u001b[39;00m\u001b[38;5;21;01m.\u001b[39;00m\u001b[38;5;21;01menums\u001b[39;00m \u001b[38;5;28;01mimport\u001b[39;00m ByteOrder\n\u001b[1;32m     16\u001b[0m __all__ \u001b[38;5;241m=\u001b[39m (\n\u001b[1;32m     17\u001b[0m     \u001b[38;5;124m\"\u001b[39m\u001b[38;5;124mVERSION\u001b[39m\u001b[38;5;124m\"\u001b[39m,\n\u001b[1;32m     18\u001b[0m     \u001b[38;5;124m\"\u001b[39m\u001b[38;5;124mBinaryReader\u001b[39m\u001b[38;5;124m\"\u001b[39m,\n\u001b[0;32m   (...)\u001b[0m\n\u001b[1;32m     30\u001b[0m     \u001b[38;5;124m\"\u001b[39m\u001b[38;5;124mload_bytes\u001b[39m\u001b[38;5;124m\"\u001b[39m,\n\u001b[1;32m     31\u001b[0m )\n",
      "File \u001b[0;32m~/Library/Caches/pypoetry/virtualenvs/ml-essence-iRb4gPye-py3.10/lib/python3.10/site-packages/gd/encoding.py:16\u001b[0m\n\u001b[1;32m     13\u001b[0m \u001b[38;5;28;01mfrom\u001b[39;00m \u001b[38;5;21;01mzlib\u001b[39;00m \u001b[38;5;28;01mimport\u001b[39;00m decompressobj \u001b[38;5;28;01mas\u001b[39;00m create_decompressor\n\u001b[1;32m     14\u001b[0m \u001b[38;5;28;01mfrom\u001b[39;00m \u001b[38;5;21;01mzlib\u001b[39;00m \u001b[38;5;28;01mimport\u001b[39;00m error \u001b[38;5;28;01mas\u001b[39;00m ZLibError\n\u001b[0;32m---> 16\u001b[0m \u001b[38;5;28;01mfrom\u001b[39;00m \u001b[38;5;21;01mxor_cipher\u001b[39;00m \u001b[38;5;28;01mimport\u001b[39;00m cyclic_xor, cyclic_xor_string, xor, xor_string\n\u001b[1;32m     18\u001b[0m \u001b[38;5;28;01mfrom\u001b[39;00m \u001b[38;5;21;01mgd\u001b[39;00m\u001b[38;5;21;01m.\u001b[39;00m\u001b[38;5;21;01mconstants\u001b[39;00m \u001b[38;5;28;01mimport\u001b[39;00m (\n\u001b[1;32m     19\u001b[0m     DEFAULT_APPLY_XOR,\n\u001b[1;32m     20\u001b[0m     DEFAULT_CHECK,\n\u001b[0;32m   (...)\u001b[0m\n\u001b[1;32m     25\u001b[0m     DEFAULT_SECONDS,\n\u001b[1;32m     26\u001b[0m )\n\u001b[1;32m     27\u001b[0m \u001b[38;5;28;01mfrom\u001b[39;00m \u001b[38;5;21;01mgd\u001b[39;00m\u001b[38;5;21;01m.\u001b[39;00m\u001b[38;5;21;01menums\u001b[39;00m \u001b[38;5;28;01mimport\u001b[39;00m Key, Salt, SimpleKey\n",
      "\u001b[0;31mImportError\u001b[0m: cannot import name 'cyclic_xor_string' from 'xor_cipher' (/Users/takigawakoki/Library/Caches/pypoetry/virtualenvs/ml-essence-iRb4gPye-py3.10/lib/python3.10/site-packages/xor_cipher/__init__.py)"
     ]
    }
   ],
   "source": [
    "import numpy as np\n",
    "import matplotlib.pyplot as plt\n",
    "import gd\n",
    "\n",
    "def f(xx):\n",
    "    x = xx[0]\n",
    "    y = xx[1]\n",
    "    return 5*x**2 -6 *x*y+3*y**2+6*x-6*y\n",
    "def df(xx):\n",
    "    x = xx[0]\n",
    "    y = xx[1]\n",
    "    return np.array([10 *x -6 *y +6, -6 *x +6*y-6])\n",
    "\n",
    "algo = gd.GradientDescent(f,df)\n",
    "initial = np.array([1,1])\n",
    "algo.solve(initial)\n",
    "print(algo.x_)\n",
    "print(algo.opt_)\n",
    "\n",
    "plt.scatter(initial[0], initial[1], color='k', marker='o')\n",
    "plt.plot(alog.path_[:,0],algo.path_[:,1], color='k',linewidth=1.5)\n",
    "xs =np.linspace(-2,2,300)\n",
    "ys = np.linspace(-2,2,300)\n",
    "xmesh,ymesh=np.meshgrid(xs,ys)\n",
    "xx = np.r_[xmesh.reshape(1,-1),ymesh.reshape(1,-1)]\n",
    "levels = [-3,-2.9,-2.8,-2.6,-2.4,-2.2,-2.0,-1.0,0.,1.,2.,3.,4.]\n",
    "plt.contour(xs,ys,f(xx).reshape(xmesh.shape),levels=levels,colors='k',linestyles='dotted')\n",
    "\n",
    "plt.show()\n"
   ]
  },
  {
   "cell_type": "code",
   "execution_count": 4,
   "id": "f17a90b5-3de6-417d-a926-f13d6b3df708",
   "metadata": {},
   "outputs": [
    {
     "ename": "ImportError",
     "evalue": "cannot import name 'cyclic_xor_string' from 'xor_cipher' (/Users/takigawakoki/Library/Caches/pypoetry/virtualenvs/ml-essence-iRb4gPye-py3.10/lib/python3.10/site-packages/xor_cipher/__init__.py)",
     "output_type": "error",
     "traceback": [
      "\u001b[0;31m---------------------------------------------------------------------------\u001b[0m",
      "\u001b[0;31mImportError\u001b[0m                               Traceback (most recent call last)",
      "Cell \u001b[0;32mIn[4], line 3\u001b[0m\n\u001b[1;32m      1\u001b[0m \u001b[38;5;28;01mimport\u001b[39;00m \u001b[38;5;21;01mnumpy\u001b[39;00m \u001b[38;5;28;01mas\u001b[39;00m \u001b[38;5;21;01mnp\u001b[39;00m\n\u001b[1;32m      2\u001b[0m \u001b[38;5;28;01mimport\u001b[39;00m \u001b[38;5;21;01mmatplotlib\u001b[39;00m\u001b[38;5;21;01m.\u001b[39;00m\u001b[38;5;21;01mpyplot\u001b[39;00m \u001b[38;5;28;01mas\u001b[39;00m \u001b[38;5;21;01mplt\u001b[39;00m\n\u001b[0;32m----> 3\u001b[0m \u001b[38;5;28;01mimport\u001b[39;00m \u001b[38;5;21;01mgd\u001b[39;00m\n\u001b[1;32m      5\u001b[0m \u001b[38;5;28;01mdef\u001b[39;00m \u001b[38;5;21mf\u001b[39m(xx):\n\u001b[1;32m      6\u001b[0m     x \u001b[38;5;241m=\u001b[39m xx[\u001b[38;5;241m0\u001b[39m]\n",
      "File \u001b[0;32m~/Library/Caches/pypoetry/virtualenvs/ml-essence-iRb4gPye-py3.10/lib/python3.10/site-packages/gd/__init__.py:11\u001b[0m\n\u001b[1;32m      8\u001b[0m __license__ \u001b[38;5;241m=\u001b[39m \u001b[38;5;124m\"\u001b[39m\u001b[38;5;124mMIT\u001b[39m\u001b[38;5;124m\"\u001b[39m\n\u001b[1;32m      9\u001b[0m __version__ \u001b[38;5;241m=\u001b[39m \u001b[38;5;124m\"\u001b[39m\u001b[38;5;124m1.0.1\u001b[39m\u001b[38;5;124m\"\u001b[39m\n\u001b[0;32m---> 11\u001b[0m \u001b[38;5;28;01mfrom\u001b[39;00m \u001b[38;5;21;01mgd\u001b[39;00m \u001b[38;5;28;01mimport\u001b[39;00m (\n\u001b[1;32m     12\u001b[0m     api,\n\u001b[1;32m     13\u001b[0m     binary,\n\u001b[1;32m     14\u001b[0m     encoding,\n\u001b[1;32m     15\u001b[0m     events,\n\u001b[1;32m     16\u001b[0m     image,\n\u001b[1;32m     17\u001b[0m     memory,\n\u001b[1;32m     18\u001b[0m     models,\n\u001b[1;32m     19\u001b[0m     named_dicts,\n\u001b[1;32m     20\u001b[0m     robtop,\n\u001b[1;32m     21\u001b[0m     server,\n\u001b[1;32m     22\u001b[0m     tasks,\n\u001b[1;32m     23\u001b[0m )\n\u001b[1;32m     24\u001b[0m \u001b[38;5;28;01mfrom\u001b[39;00m \u001b[38;5;21;01mgd\u001b[39;00m\u001b[38;5;21;01m.\u001b[39;00m\u001b[38;5;21;01martist\u001b[39;00m \u001b[38;5;28;01mimport\u001b[39;00m Artist\n\u001b[1;32m     25\u001b[0m \u001b[38;5;28;01mfrom\u001b[39;00m \u001b[38;5;21;01mgd\u001b[39;00m\u001b[38;5;21;01m.\u001b[39;00m\u001b[38;5;21;01mbinary\u001b[39;00m \u001b[38;5;28;01mimport\u001b[39;00m BinaryInfo\n",
      "File \u001b[0;32m~/Library/Caches/pypoetry/virtualenvs/ml-essence-iRb4gPye-py3.10/lib/python3.10/site-packages/gd/api/__init__.py:1\u001b[0m\n\u001b[0;32m----> 1\u001b[0m \u001b[38;5;28;01mfrom\u001b[39;00m \u001b[38;5;21;01mgd\u001b[39;00m\u001b[38;5;21;01m.\u001b[39;00m\u001b[38;5;21;01mapi\u001b[39;00m\u001b[38;5;21;01m.\u001b[39;00m\u001b[38;5;21;01mcolor_channels\u001b[39;00m \u001b[38;5;28;01mimport\u001b[39;00m (\n\u001b[1;32m      2\u001b[0m     ColorChannel,\n\u001b[1;32m      3\u001b[0m     ColorChannels,\n\u001b[1;32m      4\u001b[0m     CopiedColorChannel,\n\u001b[1;32m      5\u001b[0m     NormalColorChannel,\n\u001b[1;32m      6\u001b[0m     PlayerColorChannel,\n\u001b[1;32m      7\u001b[0m )\n\u001b[1;32m      8\u001b[0m \u001b[38;5;28;01mfrom\u001b[39;00m \u001b[38;5;21;01mgd\u001b[39;00m\u001b[38;5;21;01m.\u001b[39;00m\u001b[38;5;21;01mapi\u001b[39;00m\u001b[38;5;21;01m.\u001b[39;00m\u001b[38;5;21;01mdatabase\u001b[39;00m \u001b[38;5;28;01mimport\u001b[39;00m Database\n\u001b[1;32m      9\u001b[0m \u001b[38;5;28;01mfrom\u001b[39;00m \u001b[38;5;21;01mgd\u001b[39;00m\u001b[38;5;21;01m.\u001b[39;00m\u001b[38;5;21;01mapi\u001b[39;00m\u001b[38;5;21;01m.\u001b[39;00m\u001b[38;5;21;01meditor\u001b[39;00m \u001b[38;5;28;01mimport\u001b[39;00m Editor\n",
      "File \u001b[0;32m~/Library/Caches/pypoetry/virtualenvs/ml-essence-iRb4gPye-py3.10/lib/python3.10/site-packages/gd/api/color_channels.py:11\u001b[0m\n\u001b[1;32m      8\u001b[0m \u001b[38;5;28;01mfrom\u001b[39;00m \u001b[38;5;21;01miters\u001b[39;00m\u001b[38;5;21;01m.\u001b[39;00m\u001b[38;5;21;01miters\u001b[39;00m \u001b[38;5;28;01mimport\u001b[39;00m \u001b[38;5;28miter\u001b[39m\n\u001b[1;32m      9\u001b[0m \u001b[38;5;28;01mfrom\u001b[39;00m \u001b[38;5;21;01mtyping_extensions\u001b[39;00m \u001b[38;5;28;01mimport\u001b[39;00m TypeGuard\n\u001b[0;32m---> 11\u001b[0m \u001b[38;5;28;01mfrom\u001b[39;00m \u001b[38;5;21;01mgd\u001b[39;00m\u001b[38;5;21;01m.\u001b[39;00m\u001b[38;5;21;01mapi\u001b[39;00m\u001b[38;5;21;01m.\u001b[39;00m\u001b[38;5;21;01mhsv\u001b[39;00m \u001b[38;5;28;01mimport\u001b[39;00m HSV\n\u001b[1;32m     12\u001b[0m \u001b[38;5;28;01mfrom\u001b[39;00m \u001b[38;5;21;01mgd\u001b[39;00m\u001b[38;5;21;01m.\u001b[39;00m\u001b[38;5;21;01mbinary\u001b[39;00m \u001b[38;5;28;01mimport\u001b[39;00m VERSION, Binary, BinaryReader, BinaryWriter\n\u001b[1;32m     13\u001b[0m \u001b[38;5;28;01mfrom\u001b[39;00m \u001b[38;5;21;01mgd\u001b[39;00m\u001b[38;5;21;01m.\u001b[39;00m\u001b[38;5;21;01mbinary_constants\u001b[39;00m \u001b[38;5;28;01mimport\u001b[39;00m BITS, BYTE\n",
      "File \u001b[0;32m~/Library/Caches/pypoetry/virtualenvs/ml-essence-iRb4gPye-py3.10/lib/python3.10/site-packages/gd/api/hsv.py:6\u001b[0m\n\u001b[1;32m      3\u001b[0m \u001b[38;5;28;01mfrom\u001b[39;00m \u001b[38;5;21;01mattrs\u001b[39;00m \u001b[38;5;28;01mimport\u001b[39;00m define, field\n\u001b[1;32m      4\u001b[0m \u001b[38;5;28;01mfrom\u001b[39;00m \u001b[38;5;21;01mtyping_aliases\u001b[39;00m \u001b[38;5;28;01mimport\u001b[39;00m Unary\n\u001b[0;32m----> 6\u001b[0m \u001b[38;5;28;01mfrom\u001b[39;00m \u001b[38;5;21;01mgd\u001b[39;00m\u001b[38;5;21;01m.\u001b[39;00m\u001b[38;5;21;01mbinary\u001b[39;00m \u001b[38;5;28;01mimport\u001b[39;00m VERSION, Binary, BinaryReader, BinaryWriter\n\u001b[1;32m      7\u001b[0m \u001b[38;5;28;01mfrom\u001b[39;00m \u001b[38;5;21;01mgd\u001b[39;00m\u001b[38;5;21;01m.\u001b[39;00m\u001b[38;5;21;01mbinary_constants\u001b[39;00m \u001b[38;5;28;01mimport\u001b[39;00m BITS, BYTE\n\u001b[1;32m      8\u001b[0m \u001b[38;5;28;01mfrom\u001b[39;00m \u001b[38;5;21;01mgd\u001b[39;00m\u001b[38;5;21;01m.\u001b[39;00m\u001b[38;5;21;01mbinary_utils\u001b[39;00m \u001b[38;5;28;01mimport\u001b[39;00m Reader, Writer\n",
      "File \u001b[0;32m~/Library/Caches/pypoetry/virtualenvs/ml-essence-iRb4gPye-py3.10/lib/python3.10/site-packages/gd/binary.py:13\u001b[0m\n\u001b[1;32m     10\u001b[0m \u001b[38;5;28;01mfrom\u001b[39;00m \u001b[38;5;21;01mtyping_extensions\u001b[39;00m \u001b[38;5;28;01mimport\u001b[39;00m Protocol, TypeGuard, runtime_checkable\n\u001b[1;32m     12\u001b[0m \u001b[38;5;28;01mfrom\u001b[39;00m \u001b[38;5;21;01mgd\u001b[39;00m\u001b[38;5;21;01m.\u001b[39;00m\u001b[38;5;21;01mconstants\u001b[39;00m \u001b[38;5;28;01mimport\u001b[39;00m DEFAULT_ENCODING, DEFAULT_ERRORS, READ_BINARY, WRITE_BINARY\n\u001b[0;32m---> 13\u001b[0m \u001b[38;5;28;01mfrom\u001b[39;00m \u001b[38;5;21;01mgd\u001b[39;00m\u001b[38;5;21;01m.\u001b[39;00m\u001b[38;5;21;01mencoding\u001b[39;00m \u001b[38;5;28;01mimport\u001b[39;00m compress, decompress\n\u001b[1;32m     14\u001b[0m \u001b[38;5;28;01mfrom\u001b[39;00m \u001b[38;5;21;01mgd\u001b[39;00m\u001b[38;5;21;01m.\u001b[39;00m\u001b[38;5;21;01menums\u001b[39;00m \u001b[38;5;28;01mimport\u001b[39;00m ByteOrder\n\u001b[1;32m     16\u001b[0m __all__ \u001b[38;5;241m=\u001b[39m (\n\u001b[1;32m     17\u001b[0m     \u001b[38;5;124m\"\u001b[39m\u001b[38;5;124mVERSION\u001b[39m\u001b[38;5;124m\"\u001b[39m,\n\u001b[1;32m     18\u001b[0m     \u001b[38;5;124m\"\u001b[39m\u001b[38;5;124mBinaryReader\u001b[39m\u001b[38;5;124m\"\u001b[39m,\n\u001b[0;32m   (...)\u001b[0m\n\u001b[1;32m     30\u001b[0m     \u001b[38;5;124m\"\u001b[39m\u001b[38;5;124mload_bytes\u001b[39m\u001b[38;5;124m\"\u001b[39m,\n\u001b[1;32m     31\u001b[0m )\n",
      "File \u001b[0;32m~/Library/Caches/pypoetry/virtualenvs/ml-essence-iRb4gPye-py3.10/lib/python3.10/site-packages/gd/encoding.py:16\u001b[0m\n\u001b[1;32m     13\u001b[0m \u001b[38;5;28;01mfrom\u001b[39;00m \u001b[38;5;21;01mzlib\u001b[39;00m \u001b[38;5;28;01mimport\u001b[39;00m decompressobj \u001b[38;5;28;01mas\u001b[39;00m create_decompressor\n\u001b[1;32m     14\u001b[0m \u001b[38;5;28;01mfrom\u001b[39;00m \u001b[38;5;21;01mzlib\u001b[39;00m \u001b[38;5;28;01mimport\u001b[39;00m error \u001b[38;5;28;01mas\u001b[39;00m ZLibError\n\u001b[0;32m---> 16\u001b[0m \u001b[38;5;28;01mfrom\u001b[39;00m \u001b[38;5;21;01mxor_cipher\u001b[39;00m \u001b[38;5;28;01mimport\u001b[39;00m cyclic_xor, cyclic_xor_string, xor, xor_string\n\u001b[1;32m     18\u001b[0m \u001b[38;5;28;01mfrom\u001b[39;00m \u001b[38;5;21;01mgd\u001b[39;00m\u001b[38;5;21;01m.\u001b[39;00m\u001b[38;5;21;01mconstants\u001b[39;00m \u001b[38;5;28;01mimport\u001b[39;00m (\n\u001b[1;32m     19\u001b[0m     DEFAULT_APPLY_XOR,\n\u001b[1;32m     20\u001b[0m     DEFAULT_CHECK,\n\u001b[0;32m   (...)\u001b[0m\n\u001b[1;32m     25\u001b[0m     DEFAULT_SECONDS,\n\u001b[1;32m     26\u001b[0m )\n\u001b[1;32m     27\u001b[0m \u001b[38;5;28;01mfrom\u001b[39;00m \u001b[38;5;21;01mgd\u001b[39;00m\u001b[38;5;21;01m.\u001b[39;00m\u001b[38;5;21;01menums\u001b[39;00m \u001b[38;5;28;01mimport\u001b[39;00m Key, Salt, SimpleKey\n",
      "\u001b[0;31mImportError\u001b[0m: cannot import name 'cyclic_xor_string' from 'xor_cipher' (/Users/takigawakoki/Library/Caches/pypoetry/virtualenvs/ml-essence-iRb4gPye-py3.10/lib/python3.10/site-packages/xor_cipher/__init__.py)"
     ]
    }
   ],
   "source": [
    "import numpy as np\n",
    "import matplotlib.pyplot as plt\n",
    "import gd\n",
    "\n",
    "def f(xx):\n",
    "    x = xx[0]\n",
    "    y = xx[1]\n",
    "    return 5*x**2 -6 *x *y +3 * y**2+6 *x -6 *y\n",
    "\n",
    "\n",
    "def df(xx):\n",
    "    x =xx[0]\n",
    "    y =xx[1]\n",
    "    return np.array([10*x -6*y+6,-6*x+6*y -6])\n",
    "\n",
    "xmin,xmax,ymin,ymax = -3,3,-3,3\n",
    "\n",
    "algos =[]\n",
    "initial = np.array([1,1])\n",
    "alphas = [0.1,0.2]\n",
    "for alpha in alphas:\n",
    "    alog = gd.GradientDescent(f,df,alpha)\n",
    "    algo.solve(np.array(initial))\n",
    "    alogs.append(algo)\n",
    "xs = np.linspace(xmin,xmax, 300)\n",
    "ys = np.linspace(ymin,ymax,300)\n",
    "xmesh,ymesh =np.meshgrid(xs,ys)\n",
    "xx = np.r_[xmesh.reshape(1,-1),ymesh.reshape(1,-1)]\n",
    "fig,ax = plt.subplots(1,2)\n",
    "levels = [-3,-2.9,-2.8,-2.6,-2.4,-2.2,-2.0,-2,-1,0,1,2,3,4]\n",
    "\n",
    "for i in range(2):\n",
    "    ax[i].set_xlim((xmin,xmax))\n",
    "    ax[i].set_ylim((ymin,ymax))\n",
    "    ax[i].set_title('alpha={}'.format(alpha[i]))\n",
    "    ax[i].scatter(initial[0],initial[1],color='k',marker='o')\n",
    "    ax[i].plot(alogs[i].paht_[:,0],algos[i].path_[:,1],color='k',linewidth=1.5)\n",
    "    ax[i].contour(xs,ys,f(xx).reshape(xmesh.shape),levels=levels,colors='k',linestyles='dotted')\n",
    "plt.show()"
   ]
  },
  {
   "cell_type": "code",
   "execution_count": 1,
   "id": "d69606a6-38fc-4b28-bd9a-dd8c6adbfb85",
   "metadata": {},
   "outputs": [
    {
     "name": "stdout",
     "output_type": "stream",
     "text": [
      "2.1284190638445777\n",
      "0.20163967572340463\n",
      "-2.330058739567982\n"
     ]
    }
   ],
   "source": [
    "def newton1dim(f,df,x0,eps=1e-10,max_iter=1000):\n",
    "    x = x0\n",
    "    iter = 0\n",
    "    while True:\n",
    "        x_new = x - f(x)/df(x)\n",
    "        if abs(x-x_new) < eps:\n",
    "            break\n",
    "        x = x_new\n",
    "        iter +=1\n",
    "        if iter == max_iter:\n",
    "            break\n",
    "    return x_new\n",
    "\n",
    "def f(x):\n",
    "    return x**3-5*x+1\n",
    "\n",
    "def df(x):\n",
    "    return 3*x**2-5\n",
    "\n",
    "print(newton1dim(f,df,2))\n",
    "print(newton1dim(f,df,0))\n",
    "print(newton1dim(f,df,-3))"
   ]
  },
  {
   "cell_type": "code",
   "execution_count": 2,
   "id": "65bb3972-81f8-4f45-8724-881a3119bc6f",
   "metadata": {},
   "outputs": [
    {
     "ename": "ImportError",
     "evalue": "cannot import name 'cyclic_xor_string' from 'xor_cipher' (/Users/takigawakoki/Library/Caches/pypoetry/virtualenvs/ml-essence-iRb4gPye-py3.10/lib/python3.10/site-packages/xor_cipher/__init__.py)",
     "output_type": "error",
     "traceback": [
      "\u001b[0;31m---------------------------------------------------------------------------\u001b[0m",
      "\u001b[0;31mImportError\u001b[0m                               Traceback (most recent call last)",
      "Cell \u001b[0;32mIn[2], line 1\u001b[0m\n\u001b[0;32m----> 1\u001b[0m \u001b[38;5;28;01mimport\u001b[39;00m \u001b[38;5;21;01mgd\u001b[39;00m\n",
      "File \u001b[0;32m~/Library/Caches/pypoetry/virtualenvs/ml-essence-iRb4gPye-py3.10/lib/python3.10/site-packages/gd/__init__.py:11\u001b[0m\n\u001b[1;32m      8\u001b[0m __license__ \u001b[38;5;241m=\u001b[39m \u001b[38;5;124m\"\u001b[39m\u001b[38;5;124mMIT\u001b[39m\u001b[38;5;124m\"\u001b[39m\n\u001b[1;32m      9\u001b[0m __version__ \u001b[38;5;241m=\u001b[39m \u001b[38;5;124m\"\u001b[39m\u001b[38;5;124m1.0.1\u001b[39m\u001b[38;5;124m\"\u001b[39m\n\u001b[0;32m---> 11\u001b[0m \u001b[38;5;28;01mfrom\u001b[39;00m \u001b[38;5;21;01mgd\u001b[39;00m \u001b[38;5;28;01mimport\u001b[39;00m (\n\u001b[1;32m     12\u001b[0m     api,\n\u001b[1;32m     13\u001b[0m     binary,\n\u001b[1;32m     14\u001b[0m     encoding,\n\u001b[1;32m     15\u001b[0m     events,\n\u001b[1;32m     16\u001b[0m     image,\n\u001b[1;32m     17\u001b[0m     memory,\n\u001b[1;32m     18\u001b[0m     models,\n\u001b[1;32m     19\u001b[0m     named_dicts,\n\u001b[1;32m     20\u001b[0m     robtop,\n\u001b[1;32m     21\u001b[0m     server,\n\u001b[1;32m     22\u001b[0m     tasks,\n\u001b[1;32m     23\u001b[0m )\n\u001b[1;32m     24\u001b[0m \u001b[38;5;28;01mfrom\u001b[39;00m \u001b[38;5;21;01mgd\u001b[39;00m\u001b[38;5;21;01m.\u001b[39;00m\u001b[38;5;21;01martist\u001b[39;00m \u001b[38;5;28;01mimport\u001b[39;00m Artist\n\u001b[1;32m     25\u001b[0m \u001b[38;5;28;01mfrom\u001b[39;00m \u001b[38;5;21;01mgd\u001b[39;00m\u001b[38;5;21;01m.\u001b[39;00m\u001b[38;5;21;01mbinary\u001b[39;00m \u001b[38;5;28;01mimport\u001b[39;00m BinaryInfo\n",
      "File \u001b[0;32m~/Library/Caches/pypoetry/virtualenvs/ml-essence-iRb4gPye-py3.10/lib/python3.10/site-packages/gd/api/__init__.py:1\u001b[0m\n\u001b[0;32m----> 1\u001b[0m \u001b[38;5;28;01mfrom\u001b[39;00m \u001b[38;5;21;01mgd\u001b[39;00m\u001b[38;5;21;01m.\u001b[39;00m\u001b[38;5;21;01mapi\u001b[39;00m\u001b[38;5;21;01m.\u001b[39;00m\u001b[38;5;21;01mcolor_channels\u001b[39;00m \u001b[38;5;28;01mimport\u001b[39;00m (\n\u001b[1;32m      2\u001b[0m     ColorChannel,\n\u001b[1;32m      3\u001b[0m     ColorChannels,\n\u001b[1;32m      4\u001b[0m     CopiedColorChannel,\n\u001b[1;32m      5\u001b[0m     NormalColorChannel,\n\u001b[1;32m      6\u001b[0m     PlayerColorChannel,\n\u001b[1;32m      7\u001b[0m )\n\u001b[1;32m      8\u001b[0m \u001b[38;5;28;01mfrom\u001b[39;00m \u001b[38;5;21;01mgd\u001b[39;00m\u001b[38;5;21;01m.\u001b[39;00m\u001b[38;5;21;01mapi\u001b[39;00m\u001b[38;5;21;01m.\u001b[39;00m\u001b[38;5;21;01mdatabase\u001b[39;00m \u001b[38;5;28;01mimport\u001b[39;00m Database\n\u001b[1;32m      9\u001b[0m \u001b[38;5;28;01mfrom\u001b[39;00m \u001b[38;5;21;01mgd\u001b[39;00m\u001b[38;5;21;01m.\u001b[39;00m\u001b[38;5;21;01mapi\u001b[39;00m\u001b[38;5;21;01m.\u001b[39;00m\u001b[38;5;21;01meditor\u001b[39;00m \u001b[38;5;28;01mimport\u001b[39;00m Editor\n",
      "File \u001b[0;32m~/Library/Caches/pypoetry/virtualenvs/ml-essence-iRb4gPye-py3.10/lib/python3.10/site-packages/gd/api/color_channels.py:11\u001b[0m\n\u001b[1;32m      8\u001b[0m \u001b[38;5;28;01mfrom\u001b[39;00m \u001b[38;5;21;01miters\u001b[39;00m\u001b[38;5;21;01m.\u001b[39;00m\u001b[38;5;21;01miters\u001b[39;00m \u001b[38;5;28;01mimport\u001b[39;00m \u001b[38;5;28miter\u001b[39m\n\u001b[1;32m      9\u001b[0m \u001b[38;5;28;01mfrom\u001b[39;00m \u001b[38;5;21;01mtyping_extensions\u001b[39;00m \u001b[38;5;28;01mimport\u001b[39;00m TypeGuard\n\u001b[0;32m---> 11\u001b[0m \u001b[38;5;28;01mfrom\u001b[39;00m \u001b[38;5;21;01mgd\u001b[39;00m\u001b[38;5;21;01m.\u001b[39;00m\u001b[38;5;21;01mapi\u001b[39;00m\u001b[38;5;21;01m.\u001b[39;00m\u001b[38;5;21;01mhsv\u001b[39;00m \u001b[38;5;28;01mimport\u001b[39;00m HSV\n\u001b[1;32m     12\u001b[0m \u001b[38;5;28;01mfrom\u001b[39;00m \u001b[38;5;21;01mgd\u001b[39;00m\u001b[38;5;21;01m.\u001b[39;00m\u001b[38;5;21;01mbinary\u001b[39;00m \u001b[38;5;28;01mimport\u001b[39;00m VERSION, Binary, BinaryReader, BinaryWriter\n\u001b[1;32m     13\u001b[0m \u001b[38;5;28;01mfrom\u001b[39;00m \u001b[38;5;21;01mgd\u001b[39;00m\u001b[38;5;21;01m.\u001b[39;00m\u001b[38;5;21;01mbinary_constants\u001b[39;00m \u001b[38;5;28;01mimport\u001b[39;00m BITS, BYTE\n",
      "File \u001b[0;32m~/Library/Caches/pypoetry/virtualenvs/ml-essence-iRb4gPye-py3.10/lib/python3.10/site-packages/gd/api/hsv.py:6\u001b[0m\n\u001b[1;32m      3\u001b[0m \u001b[38;5;28;01mfrom\u001b[39;00m \u001b[38;5;21;01mattrs\u001b[39;00m \u001b[38;5;28;01mimport\u001b[39;00m define, field\n\u001b[1;32m      4\u001b[0m \u001b[38;5;28;01mfrom\u001b[39;00m \u001b[38;5;21;01mtyping_aliases\u001b[39;00m \u001b[38;5;28;01mimport\u001b[39;00m Unary\n\u001b[0;32m----> 6\u001b[0m \u001b[38;5;28;01mfrom\u001b[39;00m \u001b[38;5;21;01mgd\u001b[39;00m\u001b[38;5;21;01m.\u001b[39;00m\u001b[38;5;21;01mbinary\u001b[39;00m \u001b[38;5;28;01mimport\u001b[39;00m VERSION, Binary, BinaryReader, BinaryWriter\n\u001b[1;32m      7\u001b[0m \u001b[38;5;28;01mfrom\u001b[39;00m \u001b[38;5;21;01mgd\u001b[39;00m\u001b[38;5;21;01m.\u001b[39;00m\u001b[38;5;21;01mbinary_constants\u001b[39;00m \u001b[38;5;28;01mimport\u001b[39;00m BITS, BYTE\n\u001b[1;32m      8\u001b[0m \u001b[38;5;28;01mfrom\u001b[39;00m \u001b[38;5;21;01mgd\u001b[39;00m\u001b[38;5;21;01m.\u001b[39;00m\u001b[38;5;21;01mbinary_utils\u001b[39;00m \u001b[38;5;28;01mimport\u001b[39;00m Reader, Writer\n",
      "File \u001b[0;32m~/Library/Caches/pypoetry/virtualenvs/ml-essence-iRb4gPye-py3.10/lib/python3.10/site-packages/gd/binary.py:13\u001b[0m\n\u001b[1;32m     10\u001b[0m \u001b[38;5;28;01mfrom\u001b[39;00m \u001b[38;5;21;01mtyping_extensions\u001b[39;00m \u001b[38;5;28;01mimport\u001b[39;00m Protocol, TypeGuard, runtime_checkable\n\u001b[1;32m     12\u001b[0m \u001b[38;5;28;01mfrom\u001b[39;00m \u001b[38;5;21;01mgd\u001b[39;00m\u001b[38;5;21;01m.\u001b[39;00m\u001b[38;5;21;01mconstants\u001b[39;00m \u001b[38;5;28;01mimport\u001b[39;00m DEFAULT_ENCODING, DEFAULT_ERRORS, READ_BINARY, WRITE_BINARY\n\u001b[0;32m---> 13\u001b[0m \u001b[38;5;28;01mfrom\u001b[39;00m \u001b[38;5;21;01mgd\u001b[39;00m\u001b[38;5;21;01m.\u001b[39;00m\u001b[38;5;21;01mencoding\u001b[39;00m \u001b[38;5;28;01mimport\u001b[39;00m compress, decompress\n\u001b[1;32m     14\u001b[0m \u001b[38;5;28;01mfrom\u001b[39;00m \u001b[38;5;21;01mgd\u001b[39;00m\u001b[38;5;21;01m.\u001b[39;00m\u001b[38;5;21;01menums\u001b[39;00m \u001b[38;5;28;01mimport\u001b[39;00m ByteOrder\n\u001b[1;32m     16\u001b[0m __all__ \u001b[38;5;241m=\u001b[39m (\n\u001b[1;32m     17\u001b[0m     \u001b[38;5;124m\"\u001b[39m\u001b[38;5;124mVERSION\u001b[39m\u001b[38;5;124m\"\u001b[39m,\n\u001b[1;32m     18\u001b[0m     \u001b[38;5;124m\"\u001b[39m\u001b[38;5;124mBinaryReader\u001b[39m\u001b[38;5;124m\"\u001b[39m,\n\u001b[0;32m   (...)\u001b[0m\n\u001b[1;32m     30\u001b[0m     \u001b[38;5;124m\"\u001b[39m\u001b[38;5;124mload_bytes\u001b[39m\u001b[38;5;124m\"\u001b[39m,\n\u001b[1;32m     31\u001b[0m )\n",
      "File \u001b[0;32m~/Library/Caches/pypoetry/virtualenvs/ml-essence-iRb4gPye-py3.10/lib/python3.10/site-packages/gd/encoding.py:16\u001b[0m\n\u001b[1;32m     13\u001b[0m \u001b[38;5;28;01mfrom\u001b[39;00m \u001b[38;5;21;01mzlib\u001b[39;00m \u001b[38;5;28;01mimport\u001b[39;00m decompressobj \u001b[38;5;28;01mas\u001b[39;00m create_decompressor\n\u001b[1;32m     14\u001b[0m \u001b[38;5;28;01mfrom\u001b[39;00m \u001b[38;5;21;01mzlib\u001b[39;00m \u001b[38;5;28;01mimport\u001b[39;00m error \u001b[38;5;28;01mas\u001b[39;00m ZLibError\n\u001b[0;32m---> 16\u001b[0m \u001b[38;5;28;01mfrom\u001b[39;00m \u001b[38;5;21;01mxor_cipher\u001b[39;00m \u001b[38;5;28;01mimport\u001b[39;00m cyclic_xor, cyclic_xor_string, xor, xor_string\n\u001b[1;32m     18\u001b[0m \u001b[38;5;28;01mfrom\u001b[39;00m \u001b[38;5;21;01mgd\u001b[39;00m\u001b[38;5;21;01m.\u001b[39;00m\u001b[38;5;21;01mconstants\u001b[39;00m \u001b[38;5;28;01mimport\u001b[39;00m (\n\u001b[1;32m     19\u001b[0m     DEFAULT_APPLY_XOR,\n\u001b[1;32m     20\u001b[0m     DEFAULT_CHECK,\n\u001b[0;32m   (...)\u001b[0m\n\u001b[1;32m     25\u001b[0m     DEFAULT_SECONDS,\n\u001b[1;32m     26\u001b[0m )\n\u001b[1;32m     27\u001b[0m \u001b[38;5;28;01mfrom\u001b[39;00m \u001b[38;5;21;01mgd\u001b[39;00m\u001b[38;5;21;01m.\u001b[39;00m\u001b[38;5;21;01menums\u001b[39;00m \u001b[38;5;28;01mimport\u001b[39;00m Key, Salt, SimpleKey\n",
      "\u001b[0;31mImportError\u001b[0m: cannot import name 'cyclic_xor_string' from 'xor_cipher' (/Users/takigawakoki/Library/Caches/pypoetry/virtualenvs/ml-essence-iRb4gPye-py3.10/lib/python3.10/site-packages/xor_cipher/__init__.py)"
     ]
    }
   ],
   "source": [
    "import gd"
   ]
  },
  {
   "cell_type": "code",
   "execution_count": null,
   "id": "7b722891-fd88-47b8-b6ec-614f5ae9cd4b",
   "metadata": {},
   "outputs": [],
   "source": [
    "import numpy as np\n",
    "from numpy import linalg\n",
    "\n",
    "class Newton:\n",
    "\n",
    "    def __init__(self,f,df,eps=1e-10,max_iter=1000):\n",
    "        self.f = f\n",
    "        self.df =df\n",
    "        self.eps=  eps\n",
    "        self.max_iter = max_iter\n",
    "\n",
    "    def solve(self,x0):\n",
    "        x = x0"
   ]
  },
  {
   "cell_type": "code",
   "execution_count": 1,
   "id": "1e948c7a-b44e-4f25-9def-7611ee4fbf39",
   "metadata": {},
   "outputs": [
    {
     "name": "stdout",
     "output_type": "stream",
     "text": [
      "[400. 200.]\n",
      "-1999.9999999999998\n"
     ]
    }
   ],
   "source": [
    "# 数理最適化\n",
    "# 線形計画\n",
    "# 最小値を取得\n",
    "import numpy as np\n",
    "from scipy import optimize\n",
    "\n",
    "c = np.array([-3,-4], dtype=np.float64)\n",
    "G = np.array([[1,4],[2,3],[2,1]], dtype= np.float64)\n",
    "h = np.array([1700,1400,1000],np.float64)\n",
    "sol = optimize.linprog(c,A_ub=G,b_ub=h,bounds=(0,None))\n",
    "\n",
    "print(sol.x)\n",
    "print(sol.fun)"
   ]
  },
  {
   "cell_type": "code",
   "execution_count": 9,
   "id": "a3911c77-7905-4a20-bb03-51ee3fca0db2",
   "metadata": {},
   "outputs": [
    {
     "name": "stdout",
     "output_type": "stream",
     "text": [
      "[[ 1.57009246e-16]\n",
      " [-2.00000000e+00]]\n",
      "-4.0\n"
     ]
    }
   ],
   "source": [
    "# 2次計画法\n",
    "# 最小値を取得\n",
    "import numpy as np\n",
    "import cvxopt\n",
    "\n",
    "P = cvxopt.matrix(np.array([[2,1],[1,2]], dtype=np.float64))\n",
    "q = cvxopt.matrix(np.array([2,4],dtype=np.float64))\n",
    "\n",
    "sol = cvxopt.solvers.qp(P,q)\n",
    "\n",
    "print(np.array(sol['x']))\n",
    "print(np.array(sol['primal objective']))"
   ]
  },
  {
   "cell_type": "code",
   "execution_count": 12,
   "id": "206d181e-13b7-4820-8633-6ea28145c77b",
   "metadata": {},
   "outputs": [
    {
     "name": "stdout",
     "output_type": "stream",
     "text": [
      "[[ 1.]\n",
      " [-1.]]\n",
      "-0.9999999999999998\n"
     ]
    }
   ],
   "source": [
    "# 制約つき2次計画法\n",
    "import numpy as np\n",
    "import cvxopt\n",
    "P = cvxopt.matrix(np.array([[2,1],[1,2]],dtype=np.float64))\n",
    "q= cvxopt.matrix(np.array([2,4],dtype=np.float64))\n",
    "A = cvxopt.matrix(np.array([[1,1]],dtype=np.float64))\n",
    "b = cvxopt.matrix(np.array([0],dtype=np.float64))\n",
    "sol = cvxopt.solvers.qp(P,q,A=A,b=b)\n",
    "\n",
    "print(np.array(sol['x']))\n",
    "print(np.array(sol['primal objective']))"
   ]
  },
  {
   "cell_type": "code",
   "execution_count": 14,
   "id": "3f465df2-84ab-4157-8cfe-0ccdd02ccd39",
   "metadata": {},
   "outputs": [
    {
     "name": "stdout",
     "output_type": "stream",
     "text": [
      "     pcost       dcost       gap    pres   dres\n",
      " 0:  1.8858e+00  2.9758e-01  2e+00  3e-17  2e+00\n",
      " 1: -2.1066e+00 -2.1546e+00  5e-02  3e-16  7e-01\n",
      " 2: -3.9999e+00 -4.0665e+00  7e-02  1e-16  2e-16\n",
      " 3: -4.0000e+00 -4.0007e+00  7e-04  1e-15  3e-17\n",
      " 4: -4.0000e+00 -4.0000e+00  7e-06  3e-16  6e-17\n",
      " 5: -4.0000e+00 -4.0000e+00  7e-08  4e-16  6e-17\n",
      "Optimal solution found.\n",
      "[[-2.45940140e-09]\n",
      " [-2.00000001e+00]]\n",
      "-4.0\n"
     ]
    }
   ],
   "source": [
    "# 制約つき2次計画法\n",
    "import numpy as np\n",
    "import cvxopt\n",
    "P = cvxopt.matrix(np.array([[2,1],[1,2]],dtype=np.float64))\n",
    "q= cvxopt.matrix(np.array([2,4],dtype=np.float64))\n",
    "G = cvxopt.matrix(np.array([[2,3]],dtype=np.float64))\n",
    "h = cvxopt.matrix(np.array([3], dtype=np.float64))\n",
    "\n",
    "sol = cvxopt.solvers.qp(P,q,G=G,h=h)\n",
    "\n",
    "print(np.array(sol['x']))\n",
    "print(np.array(sol['primal objective']))"
   ]
  },
  {
   "cell_type": "code",
   "execution_count": null,
   "id": "02c817d1-d5da-4e5e-a9fd-ece2bce986c7",
   "metadata": {},
   "outputs": [],
   "source": [
    "# 勾配降下法\n",
    "import numpy as np\n",
    "\n",
    "class GradientDescent:\n",
    "    def __init__(self,f,df,alpha=0.01,eps=1e-6):\n",
    "        self.f = f\n",
    "        self.df = df\n",
    "        self.alpha= alpha\n",
    "        self.eps = eps\n",
    "        self.path = None\n",
    "\n",
    "    def solve(self,init):\n",
    "        x = init\n",
    "        path = []\n",
    "        grad = self.df(x)\n",
    "        path.append(x)\n",
    "        while (grad**2).sum() > self.eps**2:\n",
    "            x = x - self.alpha * grad\n",
    "            grad =self.df(x)\n",
    "            paht.append(x)\n",
    "        self.path_ = np.array(path)\n",
    "        self.x_ = x\n",
    "        self.opt_ = self.f(x)\n",
    "        \n",
    "    "
   ]
  },
  {
   "cell_type": "code",
   "execution_count": 6,
   "id": "13b57058-428c-41f7-b0f9-2fbdcdd1deda",
   "metadata": {},
   "outputs": [
    {
     "name": "stdout",
     "output_type": "stream",
     "text": [
      "[3.45722846e-07 1.00000048e+00]\n",
      "-2.9999999999997073\n"
     ]
    },
    {
     "data": {
      "text/plain": [
       "<matplotlib.contour.QuadContourSet at 0x11a91abf0>"
      ]
     },
     "execution_count": 6,
     "metadata": {},
     "output_type": "execute_result"
    },
    {
     "data": {
      "image/png": "[encoded data removed]",
      "text/plain": [
       "<Figure size 640x480 with 1 Axes>"
      ]
     },
     "metadata": {},
     "output_type": "display_data"
    }
   ],
   "source": [
    "\n",
    "import numpy as np\n",
    "import matplotlib.pyplot as plt\n",
    "import gd # 勾配降下法\n",
    "\n",
    "def f(xx):\n",
    "    x = xx[0]\n",
    "    y = xx[1]\n",
    "    return 5 * x**2 - 6 * x * y + 3 * y**2 + 6 * x - 6 * y\n",
    "\n",
    "def df(xx):\n",
    "    x = xx[0]\n",
    "    y = xx[1]\n",
    "    return np.array([10*x -6*y+6,-6*x+6*y-6])\n",
    "\n",
    "algo = gd.GradientDescent(f,df)\n",
    "initial = np.array([1,1])\n",
    "algo.solve(initial)\n",
    "print(algo.x_)\n",
    "print(algo.opt_)\n",
    "\n",
    "\n",
    "plt.scatter(initial[0],initial[1],color='k',marker='o')\n",
    "plt.plot(algo.path_[:,0],algo.path_[:,1],color='k',linewidth=1.5)\n",
    "xs = np.linspace(-2,2,300)\n",
    "ys = np.linspace(-2,2,300)\n",
    "xmesh, ymesh = np.meshgrid(xs,ys)\n",
    "xx = np.r_[xmesh.reshape(1,-1),ymesh.reshape(1,-1)]\n",
    "levels = [-3,-2.9,-2.8,-2.6,-2.4,-2.2,-2.0,-1.0,0.0,1.0,2.0,3.0,4.0]\n",
    "plt.contour(xs,ys,f(xx).reshape(xmesh.shape), levels=levels,colors='k',linestyles='dotted')"
   ]
  }
 ],
 "metadata": {
  "kernelspec": {
   "display_name": "Python 3 (ipykernel)",
   "language": "python",
   "name": "python3"
  },
  "language_info": {
   "codemirror_mode": {
    "name": "ipython",
    "version": 3
   },
   "file_extension": ".py",
   "mimetype": "text/x-python",
   "name": "python",
   "nbconvert_exporter": "python",
   "pygments_lexer": "ipython3",
   "version": "3.10.9"
  }
 },
 "nbformat": 4,
 "nbformat_minor": 5
}
